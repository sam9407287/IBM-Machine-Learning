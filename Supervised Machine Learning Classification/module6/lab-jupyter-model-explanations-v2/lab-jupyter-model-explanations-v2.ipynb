{
 "cells": [
  {
   "cell_type": "markdown",
   "id": "ca3584ce-6774-4afc-a0f7-4ec7bdd43bc8",
   "metadata": {},
   "source": [
    "<p style=\"text-align:center\">\n",
    "    <a href=\"https://skills.network\" target=\"_blank\">\n",
    "    <img src=\"https://cf-courses-data.s3.us.cloud-object-storage.appdomain.cloud/assets/logos/SN_web_lightmode.png\" width=\"200\" alt=\"Skills Network Logo\">\n",
    "    </a>\n",
    "</p>\n"
   ]
  },
  {
   "cell_type": "markdown",
   "id": "458a40cc-34cb-4978-bc50-0a97de5d47b9",
   "metadata": {},
   "source": [
    "# **Model-agnostic Explanations**\n"
   ]
  },
  {
   "cell_type": "markdown",
   "id": "08cf1b58-65b0-4a20-83ee-129fb75dc25e",
   "metadata": {},
   "source": [
    "Estimated time needed: **45** minutes\n"
   ]
  },
  {
   "cell_type": "markdown",
   "id": "4343a5a7-d560-4b1d-a3be-7799b872a3f1",
   "metadata": {},
   "source": [
    "In this lab, we will first train a random forest model to predict if employees are looking for a job change, then we want to interpret the trained model in order to understand how exactly it makes predictions. Since random forest model is normally very complex to understand, we will just treat it as a black-box model first. Then, you will have the practice opportunities to apply various model-agnostic explanation methods to explain the black-box model.\n"
   ]
  },
  {
   "cell_type": "markdown",
   "id": "c951c0dd-915f-413e-9522-eed196e7c068",
   "metadata": {},
   "source": [
    "## Objectives\n"
   ]
  },
  {
   "cell_type": "markdown",
   "id": "6542fa80-bbf0-406e-bafb-5229faf9f298",
   "metadata": {},
   "source": [
    "After completing this lab you will be able to:\n"
   ]
  },
  {
   "cell_type": "markdown",
   "id": "869ea726-f4a5-42aa-973a-aea6628fbaaf",
   "metadata": {},
   "source": [
    "* Calculate Permutation Feature Importance\n",
    "* Use Partial Dependency Plot to illustrate relationships between feature and outcomes\n",
    "* Build Global Surrogate Models\n",
    "* Build Local Surrogate Models using `LIME`\n"
   ]
  },
  {
   "cell_type": "markdown",
   "id": "28ce1e26-5c71-4100-afe4-835a7c7eff84",
   "metadata": {},
   "source": [
    "----\n"
   ]
  },
  {
   "cell_type": "markdown",
   "id": "5a079f43-fe8b-4323-a674-89799f51bc84",
   "metadata": {},
   "source": [
    "## Setup\n"
   ]
  },
  {
   "cell_type": "markdown",
   "id": "da5b0ca1-8793-4bfc-9f4f-39a814e2365d",
   "metadata": {},
   "source": [
    "Let's first import required Python packages for this lab:\n"
   ]
  },
  {
   "cell_type": "markdown",
   "id": "6b21843e-f76d-4e7e-9479-4524175d9b01",
   "metadata": {},
   "source": [
    "And then import the required Python packages.\n"
   ]
  },
  {
   "cell_type": "code",
   "execution_count": 4,
   "id": "bd28923f-e9a1-4a82-b0df-b7ee8a0cfb06",
   "metadata": {},
   "outputs": [],
   "source": [
    "## Import packages here\n",
    "import pandas as pd\n",
    "import numpy as np \n",
    "import matplotlib.pyplot as plt\n",
    "import lime.lime_tabular\n",
    "\n",
    "from sklearn import metrics\n",
    "from sklearn.ensemble import RandomForestClassifier\n",
    "from sklearn.preprocessing import MinMaxScaler, StandardScaler\n",
    "from sklearn.model_selection import train_test_split\n",
    "from sklearn.linear_model import LogisticRegression\n",
    "from sklearn.tree import DecisionTreeClassifier, export_text, export_graphviz, plot_tree\n",
    "from sklearn.inspection import permutation_importance, PartialDependenceDisplay\n"
   ]
  },
  {
   "cell_type": "markdown",
   "id": "d6ffcf69-d63d-477c-ab53-bc9d91c396d5",
   "metadata": {},
   "source": [
    "Then, let's load the dataset to be used in this lab.\n"
   ]
  },
  {
   "cell_type": "code",
   "execution_count": 2,
   "id": "f3fc1ae7-67ff-4c83-bbbb-0fe1aab11402",
   "metadata": {},
   "outputs": [],
   "source": [
    "url=\"https://cf-courses-data.s3.us.cloud-object-storage.appdomain.cloud/IBM-ML201EN-SkillsNetwork/labs/module_4/datasets/hr_new_job_processed.csv\"\n",
    "job_df=pd.read_csv(url)"
   ]
  },
  {
   "cell_type": "code",
   "execution_count": 3,
   "id": "446473f6-c2ce-4c20-95cf-9cac9c22ae64",
   "metadata": {},
   "outputs": [
    {
     "data": {
      "text/html": [
       "<div>\n",
       "<style scoped>\n",
       "    .dataframe tbody tr th:only-of-type {\n",
       "        vertical-align: middle;\n",
       "    }\n",
       "\n",
       "    .dataframe tbody tr th {\n",
       "        vertical-align: top;\n",
       "    }\n",
       "\n",
       "    .dataframe thead th {\n",
       "        text-align: right;\n",
       "    }\n",
       "</style>\n",
       "<table border=\"1\" class=\"dataframe\">\n",
       "  <thead>\n",
       "    <tr style=\"text-align: right;\">\n",
       "      <th></th>\n",
       "      <th>city_development_index</th>\n",
       "      <th>training_hours</th>\n",
       "      <th>company_size</th>\n",
       "      <th>experience</th>\n",
       "      <th>education_level</th>\n",
       "      <th>company_type_Early Stage Startup</th>\n",
       "      <th>company_type_Funded Startup</th>\n",
       "      <th>company_type_NGO</th>\n",
       "      <th>company_type_Other</th>\n",
       "      <th>company_type_Public Sector</th>\n",
       "      <th>company_type_Pvt Ltd</th>\n",
       "      <th>target</th>\n",
       "    </tr>\n",
       "  </thead>\n",
       "  <tbody>\n",
       "    <tr>\n",
       "      <th>count</th>\n",
       "      <td>11504.000000</td>\n",
       "      <td>11504.000000</td>\n",
       "      <td>11504.000000</td>\n",
       "      <td>11504.000000</td>\n",
       "      <td>11504.000000</td>\n",
       "      <td>11504.000000</td>\n",
       "      <td>11504.000000</td>\n",
       "      <td>11504.000000</td>\n",
       "      <td>11504.000000</td>\n",
       "      <td>11504.000000</td>\n",
       "      <td>11504.000000</td>\n",
       "      <td>11504.000000</td>\n",
       "    </tr>\n",
       "    <tr>\n",
       "      <th>mean</th>\n",
       "      <td>0.806056</td>\n",
       "      <td>64.380421</td>\n",
       "      <td>2.748997</td>\n",
       "      <td>9.530985</td>\n",
       "      <td>2.131568</td>\n",
       "      <td>0.029180</td>\n",
       "      <td>0.042537</td>\n",
       "      <td>0.023619</td>\n",
       "      <td>0.005557</td>\n",
       "      <td>0.045442</td>\n",
       "      <td>0.853665</td>\n",
       "      <td>0.500000</td>\n",
       "    </tr>\n",
       "    <tr>\n",
       "      <th>std</th>\n",
       "      <td>0.128302</td>\n",
       "      <td>59.048600</td>\n",
       "      <td>1.783676</td>\n",
       "      <td>6.733267</td>\n",
       "      <td>0.627610</td>\n",
       "      <td>0.161802</td>\n",
       "      <td>0.197495</td>\n",
       "      <td>0.147348</td>\n",
       "      <td>0.070875</td>\n",
       "      <td>0.200717</td>\n",
       "      <td>0.342167</td>\n",
       "      <td>0.500022</td>\n",
       "    </tr>\n",
       "    <tr>\n",
       "      <th>min</th>\n",
       "      <td>0.448000</td>\n",
       "      <td>1.000000</td>\n",
       "      <td>0.000000</td>\n",
       "      <td>0.000000</td>\n",
       "      <td>0.000000</td>\n",
       "      <td>0.000000</td>\n",
       "      <td>0.000000</td>\n",
       "      <td>0.000000</td>\n",
       "      <td>0.000000</td>\n",
       "      <td>0.000000</td>\n",
       "      <td>0.000000</td>\n",
       "      <td>0.000000</td>\n",
       "    </tr>\n",
       "    <tr>\n",
       "      <th>25%</th>\n",
       "      <td>0.682000</td>\n",
       "      <td>23.000000</td>\n",
       "      <td>2.000000</td>\n",
       "      <td>4.000000</td>\n",
       "      <td>2.000000</td>\n",
       "      <td>0.000000</td>\n",
       "      <td>0.000000</td>\n",
       "      <td>0.000000</td>\n",
       "      <td>0.000000</td>\n",
       "      <td>0.000000</td>\n",
       "      <td>1.000000</td>\n",
       "      <td>0.000000</td>\n",
       "    </tr>\n",
       "    <tr>\n",
       "      <th>50%</th>\n",
       "      <td>0.878000</td>\n",
       "      <td>46.000000</td>\n",
       "      <td>2.000000</td>\n",
       "      <td>8.000000</td>\n",
       "      <td>2.000000</td>\n",
       "      <td>0.000000</td>\n",
       "      <td>0.000000</td>\n",
       "      <td>0.000000</td>\n",
       "      <td>0.000000</td>\n",
       "      <td>0.000000</td>\n",
       "      <td>1.000000</td>\n",
       "      <td>0.500000</td>\n",
       "    </tr>\n",
       "    <tr>\n",
       "      <th>75%</th>\n",
       "      <td>0.920000</td>\n",
       "      <td>88.000000</td>\n",
       "      <td>3.000000</td>\n",
       "      <td>15.000000</td>\n",
       "      <td>2.247823</td>\n",
       "      <td>0.000000</td>\n",
       "      <td>0.000000</td>\n",
       "      <td>0.000000</td>\n",
       "      <td>0.000000</td>\n",
       "      <td>0.000000</td>\n",
       "      <td>1.000000</td>\n",
       "      <td>1.000000</td>\n",
       "    </tr>\n",
       "    <tr>\n",
       "      <th>max</th>\n",
       "      <td>0.949000</td>\n",
       "      <td>336.000000</td>\n",
       "      <td>7.000000</td>\n",
       "      <td>21.000000</td>\n",
       "      <td>4.000000</td>\n",
       "      <td>1.000000</td>\n",
       "      <td>1.000000</td>\n",
       "      <td>1.000000</td>\n",
       "      <td>1.000000</td>\n",
       "      <td>1.000000</td>\n",
       "      <td>1.000000</td>\n",
       "      <td>1.000000</td>\n",
       "    </tr>\n",
       "  </tbody>\n",
       "</table>\n",
       "</div>"
      ],
      "text/plain": [
       "       city_development_index  training_hours  company_size    experience  \\\n",
       "count            11504.000000    11504.000000  11504.000000  11504.000000   \n",
       "mean                 0.806056       64.380421      2.748997      9.530985   \n",
       "std                  0.128302       59.048600      1.783676      6.733267   \n",
       "min                  0.448000        1.000000      0.000000      0.000000   \n",
       "25%                  0.682000       23.000000      2.000000      4.000000   \n",
       "50%                  0.878000       46.000000      2.000000      8.000000   \n",
       "75%                  0.920000       88.000000      3.000000     15.000000   \n",
       "max                  0.949000      336.000000      7.000000     21.000000   \n",
       "\n",
       "       education_level  company_type_Early Stage Startup  \\\n",
       "count     11504.000000                      11504.000000   \n",
       "mean          2.131568                          0.029180   \n",
       "std           0.627610                          0.161802   \n",
       "min           0.000000                          0.000000   \n",
       "25%           2.000000                          0.000000   \n",
       "50%           2.000000                          0.000000   \n",
       "75%           2.247823                          0.000000   \n",
       "max           4.000000                          1.000000   \n",
       "\n",
       "       company_type_Funded Startup  company_type_NGO  company_type_Other  \\\n",
       "count                 11504.000000      11504.000000        11504.000000   \n",
       "mean                      0.042537          0.023619            0.005557   \n",
       "std                       0.197495          0.147348            0.070875   \n",
       "min                       0.000000          0.000000            0.000000   \n",
       "25%                       0.000000          0.000000            0.000000   \n",
       "50%                       0.000000          0.000000            0.000000   \n",
       "75%                       0.000000          0.000000            0.000000   \n",
       "max                       1.000000          1.000000            1.000000   \n",
       "\n",
       "       company_type_Public Sector  company_type_Pvt Ltd        target  \n",
       "count                11504.000000          11504.000000  11504.000000  \n",
       "mean                     0.045442              0.853665      0.500000  \n",
       "std                      0.200717              0.342167      0.500022  \n",
       "min                      0.000000              0.000000      0.000000  \n",
       "25%                      0.000000              1.000000      0.000000  \n",
       "50%                      0.000000              1.000000      0.500000  \n",
       "75%                      0.000000              1.000000      1.000000  \n",
       "max                      1.000000              1.000000      1.000000  "
      ]
     },
     "execution_count": 3,
     "metadata": {},
     "output_type": "execute_result"
    }
   ],
   "source": [
    "job_df.describe()"
   ]
  },
  {
   "cell_type": "markdown",
   "id": "af91d944-bcbb-4fbc-99a1-f0d0ea52f029",
   "metadata": {},
   "source": [
    "The dataset contains the following features (predictors):\n",
    "\n",
    "- `city_ development index` : Developement index of the city, ranged from 0 to 1\n",
    "- `training_hours`: Training hours completed, ranged from 0 to 336\n",
    "- `company_size`: Size of the current company, ranged from 0 to 7 where 0 means less than 10 employees and 7 means more than 10,000 employees\n",
    "- `education_level`: Education level of the candidate, ranged from 0 to 4 where 0 means Primary School and 4 means Phd\n",
    "- `experience`: Total experience in years, ranged from 0 to 21\n",
    "- `company_type` : _Categorical column_ with one-hot encodings. Type of current company:  'Pvt Ltd', 'Funded Startup', 'Early Stage Startup', 'Other', 'Public Sector', 'NGO'\n",
    "\n",
    "and the prediction outcome is:\n",
    "- `target`: `0` – Not looking for a job change, `1` – Looking for a job change\n"
   ]
  },
  {
   "cell_type": "markdown",
   "id": "6ae4e8bd-1ade-45d8-b425-8f585fbe0a92",
   "metadata": {},
   "source": [
    "The predictive task is a straightforward binary classification task, more specifically, we want to use an employee's profile features to predict if he/she is looking for a job change or not.\n"
   ]
  },
  {
   "cell_type": "markdown",
   "id": "5f12f6d5-4f94-4d52-93bd-83b089f8dc76",
   "metadata": {},
   "source": [
    "## Build a Random Forest classifier as the Black-box model\n"
   ]
  },
  {
   "cell_type": "markdown",
   "id": "a02dacd8-97b8-4377-b507-ff33a228603f",
   "metadata": {},
   "source": [
    "### Split the training and testing datasets\n"
   ]
  },
  {
   "cell_type": "code",
   "execution_count": 5,
   "id": "6e9ab176-f6c4-4719-abf2-5f70e1e9caaf",
   "metadata": {},
   "outputs": [],
   "source": [
    "X = job_df.loc[:, job_df.columns != 'target']\n",
    "y = job_df[['target']]"
   ]
  },
  {
   "cell_type": "code",
   "execution_count": 6,
   "id": "722399bc-f262-49b3-bead-414b3171095d",
   "metadata": {},
   "outputs": [],
   "source": [
    "X_train, X_test, y_train, y_test = train_test_split(X, y, test_size=0.2, stratify=y, random_state = 12)"
   ]
  },
  {
   "cell_type": "markdown",
   "id": "540b173a-a934-4a72-a99c-61f3192d2131",
   "metadata": {},
   "source": [
    "Now let's train a `Random Forest` model with the following preset arguments. If you like, you may also use hyperparameter tuning methods to tune these parameters yourself.\n",
    "- `random_state = 0` as a random seed to reproduce the result\n",
    "- `max_depth = 25` means the max depth of a tree should be less than 25\n",
    "- `max_features = 10` means the random forest includes max 10 features\n",
    "- `n_estimators = 100` means total 100 trees will be built\n",
    "- `bootstrap = True` means bootstrap samples will be used to build trees\n"
   ]
  },
  {
   "cell_type": "code",
   "execution_count": 7,
   "id": "ef3ed562-e83e-4d6b-838e-43365310b4dc",
   "metadata": {},
   "outputs": [
    {
     "data": {
      "text/html": [
       "<style>#sk-container-id-1 {\n",
       "  /* Definition of color scheme common for light and dark mode */\n",
       "  --sklearn-color-text: #000;\n",
       "  --sklearn-color-text-muted: #666;\n",
       "  --sklearn-color-line: gray;\n",
       "  /* Definition of color scheme for unfitted estimators */\n",
       "  --sklearn-color-unfitted-level-0: #fff5e6;\n",
       "  --sklearn-color-unfitted-level-1: #f6e4d2;\n",
       "  --sklearn-color-unfitted-level-2: #ffe0b3;\n",
       "  --sklearn-color-unfitted-level-3: chocolate;\n",
       "  /* Definition of color scheme for fitted estimators */\n",
       "  --sklearn-color-fitted-level-0: #f0f8ff;\n",
       "  --sklearn-color-fitted-level-1: #d4ebff;\n",
       "  --sklearn-color-fitted-level-2: #b3dbfd;\n",
       "  --sklearn-color-fitted-level-3: cornflowerblue;\n",
       "\n",
       "  /* Specific color for light theme */\n",
       "  --sklearn-color-text-on-default-background: var(--sg-text-color, var(--theme-code-foreground, var(--jp-content-font-color1, black)));\n",
       "  --sklearn-color-background: var(--sg-background-color, var(--theme-background, var(--jp-layout-color0, white)));\n",
       "  --sklearn-color-border-box: var(--sg-text-color, var(--theme-code-foreground, var(--jp-content-font-color1, black)));\n",
       "  --sklearn-color-icon: #696969;\n",
       "\n",
       "  @media (prefers-color-scheme: dark) {\n",
       "    /* Redefinition of color scheme for dark theme */\n",
       "    --sklearn-color-text-on-default-background: var(--sg-text-color, var(--theme-code-foreground, var(--jp-content-font-color1, white)));\n",
       "    --sklearn-color-background: var(--sg-background-color, var(--theme-background, var(--jp-layout-color0, #111)));\n",
       "    --sklearn-color-border-box: var(--sg-text-color, var(--theme-code-foreground, var(--jp-content-font-color1, white)));\n",
       "    --sklearn-color-icon: #878787;\n",
       "  }\n",
       "}\n",
       "\n",
       "#sk-container-id-1 {\n",
       "  color: var(--sklearn-color-text);\n",
       "}\n",
       "\n",
       "#sk-container-id-1 pre {\n",
       "  padding: 0;\n",
       "}\n",
       "\n",
       "#sk-container-id-1 input.sk-hidden--visually {\n",
       "  border: 0;\n",
       "  clip: rect(1px 1px 1px 1px);\n",
       "  clip: rect(1px, 1px, 1px, 1px);\n",
       "  height: 1px;\n",
       "  margin: -1px;\n",
       "  overflow: hidden;\n",
       "  padding: 0;\n",
       "  position: absolute;\n",
       "  width: 1px;\n",
       "}\n",
       "\n",
       "#sk-container-id-1 div.sk-dashed-wrapped {\n",
       "  border: 1px dashed var(--sklearn-color-line);\n",
       "  margin: 0 0.4em 0.5em 0.4em;\n",
       "  box-sizing: border-box;\n",
       "  padding-bottom: 0.4em;\n",
       "  background-color: var(--sklearn-color-background);\n",
       "}\n",
       "\n",
       "#sk-container-id-1 div.sk-container {\n",
       "  /* jupyter's `normalize.less` sets `[hidden] { display: none; }`\n",
       "     but bootstrap.min.css set `[hidden] { display: none !important; }`\n",
       "     so we also need the `!important` here to be able to override the\n",
       "     default hidden behavior on the sphinx rendered scikit-learn.org.\n",
       "     See: https://github.com/scikit-learn/scikit-learn/issues/21755 */\n",
       "  display: inline-block !important;\n",
       "  position: relative;\n",
       "}\n",
       "\n",
       "#sk-container-id-1 div.sk-text-repr-fallback {\n",
       "  display: none;\n",
       "}\n",
       "\n",
       "div.sk-parallel-item,\n",
       "div.sk-serial,\n",
       "div.sk-item {\n",
       "  /* draw centered vertical line to link estimators */\n",
       "  background-image: linear-gradient(var(--sklearn-color-text-on-default-background), var(--sklearn-color-text-on-default-background));\n",
       "  background-size: 2px 100%;\n",
       "  background-repeat: no-repeat;\n",
       "  background-position: center center;\n",
       "}\n",
       "\n",
       "/* Parallel-specific style estimator block */\n",
       "\n",
       "#sk-container-id-1 div.sk-parallel-item::after {\n",
       "  content: \"\";\n",
       "  width: 100%;\n",
       "  border-bottom: 2px solid var(--sklearn-color-text-on-default-background);\n",
       "  flex-grow: 1;\n",
       "}\n",
       "\n",
       "#sk-container-id-1 div.sk-parallel {\n",
       "  display: flex;\n",
       "  align-items: stretch;\n",
       "  justify-content: center;\n",
       "  background-color: var(--sklearn-color-background);\n",
       "  position: relative;\n",
       "}\n",
       "\n",
       "#sk-container-id-1 div.sk-parallel-item {\n",
       "  display: flex;\n",
       "  flex-direction: column;\n",
       "}\n",
       "\n",
       "#sk-container-id-1 div.sk-parallel-item:first-child::after {\n",
       "  align-self: flex-end;\n",
       "  width: 50%;\n",
       "}\n",
       "\n",
       "#sk-container-id-1 div.sk-parallel-item:last-child::after {\n",
       "  align-self: flex-start;\n",
       "  width: 50%;\n",
       "}\n",
       "\n",
       "#sk-container-id-1 div.sk-parallel-item:only-child::after {\n",
       "  width: 0;\n",
       "}\n",
       "\n",
       "/* Serial-specific style estimator block */\n",
       "\n",
       "#sk-container-id-1 div.sk-serial {\n",
       "  display: flex;\n",
       "  flex-direction: column;\n",
       "  align-items: center;\n",
       "  background-color: var(--sklearn-color-background);\n",
       "  padding-right: 1em;\n",
       "  padding-left: 1em;\n",
       "}\n",
       "\n",
       "\n",
       "/* Toggleable style: style used for estimator/Pipeline/ColumnTransformer box that is\n",
       "clickable and can be expanded/collapsed.\n",
       "- Pipeline and ColumnTransformer use this feature and define the default style\n",
       "- Estimators will overwrite some part of the style using the `sk-estimator` class\n",
       "*/\n",
       "\n",
       "/* Pipeline and ColumnTransformer style (default) */\n",
       "\n",
       "#sk-container-id-1 div.sk-toggleable {\n",
       "  /* Default theme specific background. It is overwritten whether we have a\n",
       "  specific estimator or a Pipeline/ColumnTransformer */\n",
       "  background-color: var(--sklearn-color-background);\n",
       "}\n",
       "\n",
       "/* Toggleable label */\n",
       "#sk-container-id-1 label.sk-toggleable__label {\n",
       "  cursor: pointer;\n",
       "  display: flex;\n",
       "  width: 100%;\n",
       "  margin-bottom: 0;\n",
       "  padding: 0.5em;\n",
       "  box-sizing: border-box;\n",
       "  text-align: center;\n",
       "  align-items: start;\n",
       "  justify-content: space-between;\n",
       "  gap: 0.5em;\n",
       "}\n",
       "\n",
       "#sk-container-id-1 label.sk-toggleable__label .caption {\n",
       "  font-size: 0.6rem;\n",
       "  font-weight: lighter;\n",
       "  color: var(--sklearn-color-text-muted);\n",
       "}\n",
       "\n",
       "#sk-container-id-1 label.sk-toggleable__label-arrow:before {\n",
       "  /* Arrow on the left of the label */\n",
       "  content: \"▸\";\n",
       "  float: left;\n",
       "  margin-right: 0.25em;\n",
       "  color: var(--sklearn-color-icon);\n",
       "}\n",
       "\n",
       "#sk-container-id-1 label.sk-toggleable__label-arrow:hover:before {\n",
       "  color: var(--sklearn-color-text);\n",
       "}\n",
       "\n",
       "/* Toggleable content - dropdown */\n",
       "\n",
       "#sk-container-id-1 div.sk-toggleable__content {\n",
       "  max-height: 0;\n",
       "  max-width: 0;\n",
       "  overflow: hidden;\n",
       "  text-align: left;\n",
       "  /* unfitted */\n",
       "  background-color: var(--sklearn-color-unfitted-level-0);\n",
       "}\n",
       "\n",
       "#sk-container-id-1 div.sk-toggleable__content.fitted {\n",
       "  /* fitted */\n",
       "  background-color: var(--sklearn-color-fitted-level-0);\n",
       "}\n",
       "\n",
       "#sk-container-id-1 div.sk-toggleable__content pre {\n",
       "  margin: 0.2em;\n",
       "  border-radius: 0.25em;\n",
       "  color: var(--sklearn-color-text);\n",
       "  /* unfitted */\n",
       "  background-color: var(--sklearn-color-unfitted-level-0);\n",
       "}\n",
       "\n",
       "#sk-container-id-1 div.sk-toggleable__content.fitted pre {\n",
       "  /* unfitted */\n",
       "  background-color: var(--sklearn-color-fitted-level-0);\n",
       "}\n",
       "\n",
       "#sk-container-id-1 input.sk-toggleable__control:checked~div.sk-toggleable__content {\n",
       "  /* Expand drop-down */\n",
       "  max-height: 200px;\n",
       "  max-width: 100%;\n",
       "  overflow: auto;\n",
       "}\n",
       "\n",
       "#sk-container-id-1 input.sk-toggleable__control:checked~label.sk-toggleable__label-arrow:before {\n",
       "  content: \"▾\";\n",
       "}\n",
       "\n",
       "/* Pipeline/ColumnTransformer-specific style */\n",
       "\n",
       "#sk-container-id-1 div.sk-label input.sk-toggleable__control:checked~label.sk-toggleable__label {\n",
       "  color: var(--sklearn-color-text);\n",
       "  background-color: var(--sklearn-color-unfitted-level-2);\n",
       "}\n",
       "\n",
       "#sk-container-id-1 div.sk-label.fitted input.sk-toggleable__control:checked~label.sk-toggleable__label {\n",
       "  background-color: var(--sklearn-color-fitted-level-2);\n",
       "}\n",
       "\n",
       "/* Estimator-specific style */\n",
       "\n",
       "/* Colorize estimator box */\n",
       "#sk-container-id-1 div.sk-estimator input.sk-toggleable__control:checked~label.sk-toggleable__label {\n",
       "  /* unfitted */\n",
       "  background-color: var(--sklearn-color-unfitted-level-2);\n",
       "}\n",
       "\n",
       "#sk-container-id-1 div.sk-estimator.fitted input.sk-toggleable__control:checked~label.sk-toggleable__label {\n",
       "  /* fitted */\n",
       "  background-color: var(--sklearn-color-fitted-level-2);\n",
       "}\n",
       "\n",
       "#sk-container-id-1 div.sk-label label.sk-toggleable__label,\n",
       "#sk-container-id-1 div.sk-label label {\n",
       "  /* The background is the default theme color */\n",
       "  color: var(--sklearn-color-text-on-default-background);\n",
       "}\n",
       "\n",
       "/* On hover, darken the color of the background */\n",
       "#sk-container-id-1 div.sk-label:hover label.sk-toggleable__label {\n",
       "  color: var(--sklearn-color-text);\n",
       "  background-color: var(--sklearn-color-unfitted-level-2);\n",
       "}\n",
       "\n",
       "/* Label box, darken color on hover, fitted */\n",
       "#sk-container-id-1 div.sk-label.fitted:hover label.sk-toggleable__label.fitted {\n",
       "  color: var(--sklearn-color-text);\n",
       "  background-color: var(--sklearn-color-fitted-level-2);\n",
       "}\n",
       "\n",
       "/* Estimator label */\n",
       "\n",
       "#sk-container-id-1 div.sk-label label {\n",
       "  font-family: monospace;\n",
       "  font-weight: bold;\n",
       "  display: inline-block;\n",
       "  line-height: 1.2em;\n",
       "}\n",
       "\n",
       "#sk-container-id-1 div.sk-label-container {\n",
       "  text-align: center;\n",
       "}\n",
       "\n",
       "/* Estimator-specific */\n",
       "#sk-container-id-1 div.sk-estimator {\n",
       "  font-family: monospace;\n",
       "  border: 1px dotted var(--sklearn-color-border-box);\n",
       "  border-radius: 0.25em;\n",
       "  box-sizing: border-box;\n",
       "  margin-bottom: 0.5em;\n",
       "  /* unfitted */\n",
       "  background-color: var(--sklearn-color-unfitted-level-0);\n",
       "}\n",
       "\n",
       "#sk-container-id-1 div.sk-estimator.fitted {\n",
       "  /* fitted */\n",
       "  background-color: var(--sklearn-color-fitted-level-0);\n",
       "}\n",
       "\n",
       "/* on hover */\n",
       "#sk-container-id-1 div.sk-estimator:hover {\n",
       "  /* unfitted */\n",
       "  background-color: var(--sklearn-color-unfitted-level-2);\n",
       "}\n",
       "\n",
       "#sk-container-id-1 div.sk-estimator.fitted:hover {\n",
       "  /* fitted */\n",
       "  background-color: var(--sklearn-color-fitted-level-2);\n",
       "}\n",
       "\n",
       "/* Specification for estimator info (e.g. \"i\" and \"?\") */\n",
       "\n",
       "/* Common style for \"i\" and \"?\" */\n",
       "\n",
       ".sk-estimator-doc-link,\n",
       "a:link.sk-estimator-doc-link,\n",
       "a:visited.sk-estimator-doc-link {\n",
       "  float: right;\n",
       "  font-size: smaller;\n",
       "  line-height: 1em;\n",
       "  font-family: monospace;\n",
       "  background-color: var(--sklearn-color-background);\n",
       "  border-radius: 1em;\n",
       "  height: 1em;\n",
       "  width: 1em;\n",
       "  text-decoration: none !important;\n",
       "  margin-left: 0.5em;\n",
       "  text-align: center;\n",
       "  /* unfitted */\n",
       "  border: var(--sklearn-color-unfitted-level-1) 1pt solid;\n",
       "  color: var(--sklearn-color-unfitted-level-1);\n",
       "}\n",
       "\n",
       ".sk-estimator-doc-link.fitted,\n",
       "a:link.sk-estimator-doc-link.fitted,\n",
       "a:visited.sk-estimator-doc-link.fitted {\n",
       "  /* fitted */\n",
       "  border: var(--sklearn-color-fitted-level-1) 1pt solid;\n",
       "  color: var(--sklearn-color-fitted-level-1);\n",
       "}\n",
       "\n",
       "/* On hover */\n",
       "div.sk-estimator:hover .sk-estimator-doc-link:hover,\n",
       ".sk-estimator-doc-link:hover,\n",
       "div.sk-label-container:hover .sk-estimator-doc-link:hover,\n",
       ".sk-estimator-doc-link:hover {\n",
       "  /* unfitted */\n",
       "  background-color: var(--sklearn-color-unfitted-level-3);\n",
       "  color: var(--sklearn-color-background);\n",
       "  text-decoration: none;\n",
       "}\n",
       "\n",
       "div.sk-estimator.fitted:hover .sk-estimator-doc-link.fitted:hover,\n",
       ".sk-estimator-doc-link.fitted:hover,\n",
       "div.sk-label-container:hover .sk-estimator-doc-link.fitted:hover,\n",
       ".sk-estimator-doc-link.fitted:hover {\n",
       "  /* fitted */\n",
       "  background-color: var(--sklearn-color-fitted-level-3);\n",
       "  color: var(--sklearn-color-background);\n",
       "  text-decoration: none;\n",
       "}\n",
       "\n",
       "/* Span, style for the box shown on hovering the info icon */\n",
       ".sk-estimator-doc-link span {\n",
       "  display: none;\n",
       "  z-index: 9999;\n",
       "  position: relative;\n",
       "  font-weight: normal;\n",
       "  right: .2ex;\n",
       "  padding: .5ex;\n",
       "  margin: .5ex;\n",
       "  width: min-content;\n",
       "  min-width: 20ex;\n",
       "  max-width: 50ex;\n",
       "  color: var(--sklearn-color-text);\n",
       "  box-shadow: 2pt 2pt 4pt #999;\n",
       "  /* unfitted */\n",
       "  background: var(--sklearn-color-unfitted-level-0);\n",
       "  border: .5pt solid var(--sklearn-color-unfitted-level-3);\n",
       "}\n",
       "\n",
       ".sk-estimator-doc-link.fitted span {\n",
       "  /* fitted */\n",
       "  background: var(--sklearn-color-fitted-level-0);\n",
       "  border: var(--sklearn-color-fitted-level-3);\n",
       "}\n",
       "\n",
       ".sk-estimator-doc-link:hover span {\n",
       "  display: block;\n",
       "}\n",
       "\n",
       "/* \"?\"-specific style due to the `<a>` HTML tag */\n",
       "\n",
       "#sk-container-id-1 a.estimator_doc_link {\n",
       "  float: right;\n",
       "  font-size: 1rem;\n",
       "  line-height: 1em;\n",
       "  font-family: monospace;\n",
       "  background-color: var(--sklearn-color-background);\n",
       "  border-radius: 1rem;\n",
       "  height: 1rem;\n",
       "  width: 1rem;\n",
       "  text-decoration: none;\n",
       "  /* unfitted */\n",
       "  color: var(--sklearn-color-unfitted-level-1);\n",
       "  border: var(--sklearn-color-unfitted-level-1) 1pt solid;\n",
       "}\n",
       "\n",
       "#sk-container-id-1 a.estimator_doc_link.fitted {\n",
       "  /* fitted */\n",
       "  border: var(--sklearn-color-fitted-level-1) 1pt solid;\n",
       "  color: var(--sklearn-color-fitted-level-1);\n",
       "}\n",
       "\n",
       "/* On hover */\n",
       "#sk-container-id-1 a.estimator_doc_link:hover {\n",
       "  /* unfitted */\n",
       "  background-color: var(--sklearn-color-unfitted-level-3);\n",
       "  color: var(--sklearn-color-background);\n",
       "  text-decoration: none;\n",
       "}\n",
       "\n",
       "#sk-container-id-1 a.estimator_doc_link.fitted:hover {\n",
       "  /* fitted */\n",
       "  background-color: var(--sklearn-color-fitted-level-3);\n",
       "}\n",
       "</style><div id=\"sk-container-id-1\" class=\"sk-top-container\"><div class=\"sk-text-repr-fallback\"><pre>RandomForestClassifier(max_depth=25, max_features=10, random_state=123)</pre><b>In a Jupyter environment, please rerun this cell to show the HTML representation or trust the notebook. <br />On GitHub, the HTML representation is unable to render, please try loading this page with nbviewer.org.</b></div><div class=\"sk-container\" hidden><div class=\"sk-item\"><div class=\"sk-estimator fitted sk-toggleable\"><input class=\"sk-toggleable__control sk-hidden--visually\" id=\"sk-estimator-id-1\" type=\"checkbox\" checked><label for=\"sk-estimator-id-1\" class=\"sk-toggleable__label fitted sk-toggleable__label-arrow\"><div><div>RandomForestClassifier</div></div><div><a class=\"sk-estimator-doc-link fitted\" rel=\"noreferrer\" target=\"_blank\" href=\"https://scikit-learn.org/1.6/modules/generated/sklearn.ensemble.RandomForestClassifier.html\">?<span>Documentation for RandomForestClassifier</span></a><span class=\"sk-estimator-doc-link fitted\">i<span>Fitted</span></span></div></label><div class=\"sk-toggleable__content fitted\"><pre>RandomForestClassifier(max_depth=25, max_features=10, random_state=123)</pre></div> </div></div></div></div>"
      ],
      "text/plain": [
       "RandomForestClassifier(max_depth=25, max_features=10, random_state=123)"
      ]
     },
     "execution_count": 7,
     "metadata": {},
     "output_type": "execute_result"
    }
   ],
   "source": [
    "# Define a black-box random forest model\n",
    "black_box_model = RandomForestClassifier(random_state = 123, max_depth=25, \n",
    "                             max_features=10, n_estimators=100, \n",
    "                             bootstrap=True)\n",
    "# Train the model\n",
    "black_box_model.fit(X_train, y_train.values.ravel())"
   ]
  },
  {
   "cell_type": "markdown",
   "id": "bb036784-4e32-4dfd-b95a-9ac5d0550ed2",
   "metadata": {},
   "source": [
    "Next, let's make some predictions and evalute the model using `AUC` score:\n"
   ]
  },
  {
   "cell_type": "code",
   "execution_count": 8,
   "id": "f2f5ab06-0c81-4cdc-a81e-a4018087ea5c",
   "metadata": {},
   "outputs": [],
   "source": [
    "#predicting test set\n",
    "y_blackbox = black_box_model.predict(X_test)"
   ]
  },
  {
   "cell_type": "code",
   "execution_count": 9,
   "id": "0f98ae8b-94b5-4818-802a-b4ee9751537e",
   "metadata": {},
   "outputs": [
    {
     "data": {
      "text/plain": [
       "0.8131250708268802"
      ]
     },
     "execution_count": 9,
     "metadata": {},
     "output_type": "execute_result"
    }
   ],
   "source": [
    "metrics.roc_auc_score(y_test, y_blackbox)"
   ]
  },
  {
   "cell_type": "markdown",
   "id": "52bd9b36-f17e-4608-a421-d94ccad8435a",
   "metadata": {},
   "source": [
    "Your AUC score should be around `0.81`, which indicates the model is doing a very good job in the test dataset.\n"
   ]
  },
  {
   "cell_type": "markdown",
   "id": "ee57349f-dfd5-4e8d-9b3f-aeacabfeae87",
   "metadata": {},
   "source": [
    "Now we have a black-box random forest model trained, we want to use various model-agnostic methods to explain it. \n"
   ]
  },
  {
   "cell_type": "markdown",
   "id": "ea22beaa-d9f5-4863-b4b3-730d53599969",
   "metadata": {},
   "source": [
    "Note that if you prefer other binary classification models such as XGBoosting, you could train one here by yourself as well, and it won't affect\n",
    "the subsequent steps since our explanations are all model-agnostic.\n"
   ]
  },
  {
   "cell_type": "markdown",
   "id": "ffb98dc7-e283-453f-92a2-b6faee045133",
   "metadata": {},
   "source": [
    "## Permutation Feature Importance\n"
   ]
  },
  {
   "cell_type": "markdown",
   "id": "9372bb1a-f81f-4901-a19b-0b64c929eb3d",
   "metadata": {},
   "source": [
    "One common way to explain a machine learning model is via finding its important features and **permutation feature importance** is a popular method to calculate feature importance.\n"
   ]
  },
  {
   "cell_type": "markdown",
   "id": "bcc07ded-86f0-448e-aa3b-326ca3a84c40",
   "metadata": {},
   "source": [
    "The basic idea of permutation feature importance is we shuffle interested feature values and make predictions using the shuffled values. \n",
    "The feature importance will be measured by calculating the difference between the prediction errors before and after permutation.\n"
   ]
  },
  {
   "cell_type": "markdown",
   "id": "bafe0896-a549-4435-ad0a-a065794cb213",
   "metadata": {},
   "source": [
    "In this lab, we will use `permutation_importance` function provided by `sklearn` to easily calculate importance for all features.\n"
   ]
  },
  {
   "cell_type": "markdown",
   "id": "651f9fe6-780b-4a2e-901b-86dbcc524d2b",
   "metadata": {},
   "source": [
    "You can call `permutation_importance` with the following key arguments:\n",
    "- `estimator` the model to be estimated\n",
    "- `X` training data X\n",
    "- `y` target labels y\n",
    "- `n_repeats`, Number of times to permute a feature, each permutation generates an importance value\n"
   ]
  },
  {
   "cell_type": "code",
   "execution_count": 10,
   "id": "22258666-145d-4e19-8ad7-266d1d04a297",
   "metadata": {},
   "outputs": [],
   "source": [
    "# Use permutation_importance to calculate permutation feature importances\n",
    "feature_importances = permutation_importance(estimator=black_box_model, X = X_train, y = y_train, n_repeats=5,\n",
    "                                random_state=123, n_jobs=2)"
   ]
  },
  {
   "cell_type": "markdown",
   "id": "d153790f-638b-4964-ae43-c9df3221bbf0",
   "metadata": {},
   "source": [
    "Let's take a look at the generated importance results:\n"
   ]
  },
  {
   "cell_type": "code",
   "execution_count": 11,
   "id": "be81062c-eb99-4e96-b85f-e580d6b69192",
   "metadata": {},
   "outputs": [
    {
     "data": {
      "text/plain": [
       "(11, 5)"
      ]
     },
     "execution_count": 11,
     "metadata": {},
     "output_type": "execute_result"
    }
   ],
   "source": [
    "feature_importances.importances.shape"
   ]
  },
  {
   "cell_type": "code",
   "execution_count": 12,
   "id": "ef36db1c-4a3b-42b3-a160-1a03c27d8c10",
   "metadata": {},
   "outputs": [
    {
     "data": {
      "text/plain": [
       "array([[0.30468326, 0.30109747, 0.30392263, 0.30174943, 0.30479192],\n",
       "       [0.15527545, 0.15103771, 0.15092904, 0.15190699, 0.15603608],\n",
       "       [0.18200587, 0.18309247, 0.18537433, 0.18254917, 0.18993806],\n",
       "       [0.15353689, 0.15114637, 0.15168967, 0.1472346 , 0.1562534 ],\n",
       "       [0.1201782 , 0.11789634, 0.11561447, 0.11659242, 0.11517983],\n",
       "       [0.00076062, 0.00065196, 0.00097794, 0.0005433 , 0.0005433 ],\n",
       "       [0.00206454, 0.00206454, 0.0021732 , 0.00206454, 0.0016299 ],\n",
       "       [0.00130392, 0.00141258, 0.00141258, 0.00152124, 0.00119526],\n",
       "       [0.00076062, 0.0005433 , 0.00065196, 0.0005433 , 0.0005433 ],\n",
       "       [0.00988808, 0.01043138, 0.00988808, 0.01097468, 0.01097468],\n",
       "       [0.04813648, 0.04857112, 0.04563729, 0.04704988, 0.04900576]])"
      ]
     },
     "execution_count": 12,
     "metadata": {},
     "output_type": "execute_result"
    }
   ],
   "source": [
    "feature_importances.importances"
   ]
  },
  {
   "cell_type": "markdown",
   "id": "f5243916-04df-4b12-924b-c7f7a4103570",
   "metadata": {},
   "source": [
    "It is a `11 x 5` numpy array, 11 means we have 11 features, and 5 represents the total number of permutation times. \n",
    "\n",
    "For each permutation, we will have a list of importance score calculated for each feature. The value represents the portion of increased prediction errors, important features will have larger values.\n"
   ]
  },
  {
   "cell_type": "markdown",
   "id": "2e12739f-a49a-47ca-9f81-8538dbc83c8e",
   "metadata": {},
   "source": [
    "However, the feature importance array above is very difficult to comprehend, let's sort and visualize it:\n"
   ]
  },
  {
   "cell_type": "code",
   "execution_count": 13,
   "id": "c47d4c8d-eae4-4756-b371-703867c4d3a7",
   "metadata": {},
   "outputs": [],
   "source": [
    "def visualize_feature_importance(importance_array):\n",
    "    # Sort the array based on mean value\n",
    "    sorted_idx = importance_array.importances_mean.argsort()\n",
    "    # Visualize the feature importances using boxplot\n",
    "    fig, ax = plt.subplots()\n",
    "    fig.set_figwidth(16)\n",
    "    fig.set_figheight(10)\n",
    "    fig.tight_layout()\n",
    "    ax.boxplot(importance_array.importances[sorted_idx].T,\n",
    "               vert=False, labels=X_train.columns[sorted_idx])\n",
    "    ax.set_title(\"Permutation Importances (train set)\")\n",
    "    plt.show()"
   ]
  },
  {
   "cell_type": "code",
   "execution_count": 14,
   "id": "03f392ca-8e44-4a44-ae50-ad6ab75610ab",
   "metadata": {},
   "outputs": [
    {
     "name": "stderr",
     "output_type": "stream",
     "text": [
      "C:\\Users\\sam\\AppData\\Local\\Temp\\ipykernel_21708\\1395202523.py:9: MatplotlibDeprecationWarning: The 'labels' parameter of boxplot() has been renamed 'tick_labels' since Matplotlib 3.9; support for the old name will be dropped in 3.11.\n",
      "  ax.boxplot(importance_array.importances[sorted_idx].T,\n"
     ]
    },
    {
     "data": {
      "image/png": "[encoded data removed]",
      "text/plain": [
       "<Figure size 1600x1000 with 1 Axes>"
      ]
     },
     "metadata": {},
     "output_type": "display_data"
    }
   ],
   "source": [
    "visualize_feature_importance(feature_importances)"
   ]
  },
  {
   "cell_type": "markdown",
   "id": "6b27a437-f4d7-4584-9a16-594b7a74b716",
   "metadata": {},
   "source": [
    "Now you should see a box plot show ranked feature importances, and we can see the most important features are `city_development_index`, `company_size`, `training_hours`, `experiences`, `education_level`, and so on, and you should have a general understanding of how the black-box model determines if an employee is looking for a new job or not.\n"
   ]
  },
  {
   "cell_type": "markdown",
   "id": "022f37b4-4b24-4bb8-b7ea-bfd4f8d93b67",
   "metadata": {},
   "source": [
    "### Exercise: Use a different `n_repeats=10` to calculate and visualize feature importance values  \n"
   ]
  },
  {
   "cell_type": "code",
   "execution_count": 15,
   "id": "2aea7ab0-4731-4ee4-8e11-017cd196ebe7",
   "metadata": {},
   "outputs": [
    {
     "name": "stderr",
     "output_type": "stream",
     "text": [
      "C:\\Users\\sam\\AppData\\Local\\Temp\\ipykernel_21708\\1395202523.py:9: MatplotlibDeprecationWarning: The 'labels' parameter of boxplot() has been renamed 'tick_labels' since Matplotlib 3.9; support for the old name will be dropped in 3.11.\n",
      "  ax.boxplot(importance_array.importances[sorted_idx].T,\n"
     ]
    },
    {
     "data": {
      "image/png": "[encoded data removed]",
      "text/plain": [
       "<Figure size 1600x1000 with 1 Axes>"
      ]
     },
     "metadata": {},
     "output_type": "display_data"
    }
   ],
   "source": [
    "# Type your answer here\n",
    "# Update n_repeats=10 and recalculate and visualize feature importance\n",
    "feature_importances = permutation_importance(estimator=black_box_model, X = X_train, y = y_train, n_repeats=10,\n",
    "                                random_state=123, n_jobs=2)\n",
    "\n",
    "visualize_feature_importance(feature_importances)"
   ]
  },
  {
   "cell_type": "markdown",
   "id": "d4a91497-131d-4176-b4ea-c78db2237e5e",
   "metadata": {},
   "source": [
    "<details><summary>Click here for a sample solution</summary>\n",
    "\n",
    "```python\n",
    "feature_importances = permutation_importance(estimator=black_box_model, X = X_train, y = y_train, n_repeats=10,\n",
    "                                random_state=123, n_jobs=2)\n",
    "\n",
    "visualize_feature_importance(feature_importances)\n",
    "\n",
    "```\n",
    "\n",
    "</details>\n"
   ]
  },
  {
   "cell_type": "markdown",
   "id": "891f5318-8284-4b71-a1ed-b0e867787cbb",
   "metadata": {},
   "source": [
    "## Partial Dependency Plot (PDP)\n"
   ]
  },
  {
   "cell_type": "markdown",
   "id": "b3627e2a-6502-4b14-8bd1-b35f664b65cf",
   "metadata": {},
   "source": [
    "Partial Dependency Plot (PDP) is an effective way to illustrate the relationship between an interested feature and the model outcome. It essentially visualizes the marginal effects of a feature, that is, shows how the model outcome changes when a specific feature changes in its distribution.\n"
   ]
  },
  {
   "cell_type": "markdown",
   "id": "7596c8cd-f2ca-4811-8207-4b13ee72c96b",
   "metadata": {},
   "source": [
    "Since a machine learning model may include many features, and it is not feasible to create PDP for every single feature. Thus, we normally first find the most important features via ranking their feature importances. Then, we can only focus PDP on those important features.\n"
   ]
  },
  {
   "cell_type": "markdown",
   "id": "fa804c4b-1b78-4f8f-b810-809563698d52",
   "metadata": {},
   "source": [
    "From the previous step, we know some important features are `city_development_index`, `company_size`, `experience`, `education_level`, and we can easily create PDP for those features using `PartialDependenceDisplay` in `sklearn` package.\n"
   ]
  },
  {
   "cell_type": "markdown",
   "id": "f13d967b-1def-4b38-84e1-43785464a35d",
   "metadata": {},
   "source": [
    "Let's first try to create PDP for features `city_development_index`, `experience`:\n"
   ]
  },
  {
   "cell_type": "code",
   "execution_count": 16,
   "id": "f2600d10-7489-4652-b92e-19aebd2a4f58",
   "metadata": {},
   "outputs": [
    {
     "data": {
      "image/png": "[encoded data removed]",
      "text/plain": [
       "<Figure size 640x480 with 3 Axes>"
      ]
     },
     "metadata": {},
     "output_type": "display_data"
    }
   ],
   "source": [
    "# Define important features\n",
    "important_features = ['city_development_index', 'experience']\n",
    "\n",
    "# Use PartialDependenceDisplay to plot the partial dependence\n",
    "PartialDependenceDisplay.from_estimator(estimator=black_box_model, \n",
    "                                        X=X_train, \n",
    "                                        features=important_features, \n",
    "                                        random_state=123)\n",
    "plt.show()"
   ]
  },
  {
   "cell_type": "markdown",
   "id": "ee0b6151-b9fe-41cd-b1b0-12dc1f3be080",
   "metadata": {},
   "source": [
    "Then you should see two PDPs are plotted for `city_development_index` and `experience`. They all have roughly negative linear relationship betweens the outcome, for example, if an employee is in a well-developed city and has a lot of experiences, then he/she is unlikely to change the current job.\n"
   ]
  },
  {
   "cell_type": "markdown",
   "id": "e09851c4-f975-4c1c-9b60-226a1b3418cc",
   "metadata": {},
   "source": [
    "### Exercise: Create PDPs for other important features such as `company_size`, `education_level`, `training_hours`, and others\n"
   ]
  },
  {
   "cell_type": "code",
   "execution_count": 17,
   "id": "14fe16a5-58c7-4ad8-a248-060e55562c56",
   "metadata": {},
   "outputs": [
    {
     "data": {
      "text/plain": [
       "<sklearn.inspection._plot.partial_dependence.PartialDependenceDisplay at 0x250ed7e51c0>"
      ]
     },
     "execution_count": 17,
     "metadata": {},
     "output_type": "execute_result"
    },
    {
     "data": {
      "image/png": "[encoded data removed]",
      "text/plain": [
       "<Figure size 640x480 with 4 Axes>"
      ]
     },
     "metadata": {},
     "output_type": "display_data"
    }
   ],
   "source": [
    "# Type your solution here\n",
    "# Create PDPs for other important features\n",
    "important_features = ['company_size', 'education_level', 'training_hours']\n",
    "    \n",
    "PartialDependenceDisplay.from_estimator(estimator=black_box_model, \n",
    "                        X=X_train, \n",
    "                        features=important_features,\n",
    "                        random_state=123)"
   ]
  },
  {
   "cell_type": "markdown",
   "id": "46709fb3-ac78-4c96-9acb-49e7e9a977e6",
   "metadata": {},
   "source": [
    "<details><summary>Click here for a sample solution</summary>\n",
    "\n",
    "```python\n",
    "important_features = ['company_size', 'education_level', 'training_hours']\n",
    "    \n",
    "PartialDependenceDisplay.from_estimator(estimator=black_box_model, \n",
    "                        X=X_train, \n",
    "                        features=important_features,\n",
    "                        random_state=123)\n",
    "```\n",
    "\n",
    "</details>\n"
   ]
  },
  {
   "cell_type": "markdown",
   "id": "7547cdaf-71da-4cdc-b552-60aae9eabd8a",
   "metadata": {},
   "source": [
    "## Global Surrogate Model\n"
   ]
  },
  {
   "cell_type": "markdown",
   "id": "f48dfb09-e07c-4e40-b138-716fa98dd978",
   "metadata": {},
   "source": [
    "Now you have explored how to explain the black-box model via analyzing its features. Next, we will learn how to explain it via approximate of their inputs and outputs with a global surrogate model.\n"
   ]
  },
  {
   "cell_type": "markdown",
   "id": "043d1219-cd17-4cea-acc8-0935ed060e25",
   "metadata": {},
   "source": [
    "We will be training two self-interpretable models: 1) a logistic regression model and 2) a decision tree models using the inputs and outputs from the black-box model\n"
   ]
  },
  {
   "cell_type": "markdown",
   "id": "441631b8-3d12-479e-a631-f6ea73b19e05",
   "metadata": {},
   "source": [
    "You can follow these general steps to build a global surrogate model:\n",
    "\n",
    "- First, we select a dataset `X_test` as input\n",
    "\n",
    "- Then, we use the black-box model to make predictions `y_blackbox` using the `X_test`\n",
    "\n",
    "- With both training data and labels ready, we can use them to train a simple logistic regression model and a decision tree model\n",
    "\n",
    "- The surrogate model outputs its own predictions `y_surrogate`\n",
    "\n",
    "- Lastly, we can measure the difference between `y_surrogate` and `y_blackbox` using an accuracy score to determine how well the surrogate model approximating the black-box model\n"
   ]
  },
  {
   "cell_type": "markdown",
   "id": "8a0b6578-c77c-4f65-881b-f2688d2a2dfb",
   "metadata": {},
   "source": [
    "### Logistic regression surrogate model\n"
   ]
  },
  {
   "cell_type": "markdown",
   "id": "04ab35ca-e9ab-41d7-96b8-cb3b98c2c922",
   "metadata": {},
   "source": [
    "In order to compare the coefficients of the logistic regression model directly, we want to normalize the input X first.\n"
   ]
  },
  {
   "cell_type": "code",
   "execution_count": 18,
   "id": "0ea8c86c-aff8-4796-adfb-fe93c44ffff3",
   "metadata": {},
   "outputs": [],
   "source": [
    "# normalize X_test\n",
    "min_max_scaler = StandardScaler()\n",
    "X_test_minmax = min_max_scaler.fit_transform(X_test)"
   ]
  },
  {
   "cell_type": "markdown",
   "id": "55269dfc-9623-442a-be21-488f9b32f27a",
   "metadata": {},
   "source": [
    "Then, we can train a logistic regression model with an `L1` regularizer to simplify the model and increase interpretability. Note that `y_blackbox` is coming from the predictions of black-box model.\n"
   ]
  },
  {
   "cell_type": "code",
   "execution_count": 19,
   "id": "0fc85535-69b6-4552-b59a-19653421e602",
   "metadata": {},
   "outputs": [
    {
     "data": {
      "text/html": [
       "<style>#sk-container-id-2 {\n",
       "  /* Definition of color scheme common for light and dark mode */\n",
       "  --sklearn-color-text: #000;\n",
       "  --sklearn-color-text-muted: #666;\n",
       "  --sklearn-color-line: gray;\n",
       "  /* Definition of color scheme for unfitted estimators */\n",
       "  --sklearn-color-unfitted-level-0: #fff5e6;\n",
       "  --sklearn-color-unfitted-level-1: #f6e4d2;\n",
       "  --sklearn-color-unfitted-level-2: #ffe0b3;\n",
       "  --sklearn-color-unfitted-level-3: chocolate;\n",
       "  /* Definition of color scheme for fitted estimators */\n",
       "  --sklearn-color-fitted-level-0: #f0f8ff;\n",
       "  --sklearn-color-fitted-level-1: #d4ebff;\n",
       "  --sklearn-color-fitted-level-2: #b3dbfd;\n",
       "  --sklearn-color-fitted-level-3: cornflowerblue;\n",
       "\n",
       "  /* Specific color for light theme */\n",
       "  --sklearn-color-text-on-default-background: var(--sg-text-color, var(--theme-code-foreground, var(--jp-content-font-color1, black)));\n",
       "  --sklearn-color-background: var(--sg-background-color, var(--theme-background, var(--jp-layout-color0, white)));\n",
       "  --sklearn-color-border-box: var(--sg-text-color, var(--theme-code-foreground, var(--jp-content-font-color1, black)));\n",
       "  --sklearn-color-icon: #696969;\n",
       "\n",
       "  @media (prefers-color-scheme: dark) {\n",
       "    /* Redefinition of color scheme for dark theme */\n",
       "    --sklearn-color-text-on-default-background: var(--sg-text-color, var(--theme-code-foreground, var(--jp-content-font-color1, white)));\n",
       "    --sklearn-color-background: var(--sg-background-color, var(--theme-background, var(--jp-layout-color0, #111)));\n",
       "    --sklearn-color-border-box: var(--sg-text-color, var(--theme-code-foreground, var(--jp-content-font-color1, white)));\n",
       "    --sklearn-color-icon: #878787;\n",
       "  }\n",
       "}\n",
       "\n",
       "#sk-container-id-2 {\n",
       "  color: var(--sklearn-color-text);\n",
       "}\n",
       "\n",
       "#sk-container-id-2 pre {\n",
       "  padding: 0;\n",
       "}\n",
       "\n",
       "#sk-container-id-2 input.sk-hidden--visually {\n",
       "  border: 0;\n",
       "  clip: rect(1px 1px 1px 1px);\n",
       "  clip: rect(1px, 1px, 1px, 1px);\n",
       "  height: 1px;\n",
       "  margin: -1px;\n",
       "  overflow: hidden;\n",
       "  padding: 0;\n",
       "  position: absolute;\n",
       "  width: 1px;\n",
       "}\n",
       "\n",
       "#sk-container-id-2 div.sk-dashed-wrapped {\n",
       "  border: 1px dashed var(--sklearn-color-line);\n",
       "  margin: 0 0.4em 0.5em 0.4em;\n",
       "  box-sizing: border-box;\n",
       "  padding-bottom: 0.4em;\n",
       "  background-color: var(--sklearn-color-background);\n",
       "}\n",
       "\n",
       "#sk-container-id-2 div.sk-container {\n",
       "  /* jupyter's `normalize.less` sets `[hidden] { display: none; }`\n",
       "     but bootstrap.min.css set `[hidden] { display: none !important; }`\n",
       "     so we also need the `!important` here to be able to override the\n",
       "     default hidden behavior on the sphinx rendered scikit-learn.org.\n",
       "     See: https://github.com/scikit-learn/scikit-learn/issues/21755 */\n",
       "  display: inline-block !important;\n",
       "  position: relative;\n",
       "}\n",
       "\n",
       "#sk-container-id-2 div.sk-text-repr-fallback {\n",
       "  display: none;\n",
       "}\n",
       "\n",
       "div.sk-parallel-item,\n",
       "div.sk-serial,\n",
       "div.sk-item {\n",
       "  /* draw centered vertical line to link estimators */\n",
       "  background-image: linear-gradient(var(--sklearn-color-text-on-default-background), var(--sklearn-color-text-on-default-background));\n",
       "  background-size: 2px 100%;\n",
       "  background-repeat: no-repeat;\n",
       "  background-position: center center;\n",
       "}\n",
       "\n",
       "/* Parallel-specific style estimator block */\n",
       "\n",
       "#sk-container-id-2 div.sk-parallel-item::after {\n",
       "  content: \"\";\n",
       "  width: 100%;\n",
       "  border-bottom: 2px solid var(--sklearn-color-text-on-default-background);\n",
       "  flex-grow: 1;\n",
       "}\n",
       "\n",
       "#sk-container-id-2 div.sk-parallel {\n",
       "  display: flex;\n",
       "  align-items: stretch;\n",
       "  justify-content: center;\n",
       "  background-color: var(--sklearn-color-background);\n",
       "  position: relative;\n",
       "}\n",
       "\n",
       "#sk-container-id-2 div.sk-parallel-item {\n",
       "  display: flex;\n",
       "  flex-direction: column;\n",
       "}\n",
       "\n",
       "#sk-container-id-2 div.sk-parallel-item:first-child::after {\n",
       "  align-self: flex-end;\n",
       "  width: 50%;\n",
       "}\n",
       "\n",
       "#sk-container-id-2 div.sk-parallel-item:last-child::after {\n",
       "  align-self: flex-start;\n",
       "  width: 50%;\n",
       "}\n",
       "\n",
       "#sk-container-id-2 div.sk-parallel-item:only-child::after {\n",
       "  width: 0;\n",
       "}\n",
       "\n",
       "/* Serial-specific style estimator block */\n",
       "\n",
       "#sk-container-id-2 div.sk-serial {\n",
       "  display: flex;\n",
       "  flex-direction: column;\n",
       "  align-items: center;\n",
       "  background-color: var(--sklearn-color-background);\n",
       "  padding-right: 1em;\n",
       "  padding-left: 1em;\n",
       "}\n",
       "\n",
       "\n",
       "/* Toggleable style: style used for estimator/Pipeline/ColumnTransformer box that is\n",
       "clickable and can be expanded/collapsed.\n",
       "- Pipeline and ColumnTransformer use this feature and define the default style\n",
       "- Estimators will overwrite some part of the style using the `sk-estimator` class\n",
       "*/\n",
       "\n",
       "/* Pipeline and ColumnTransformer style (default) */\n",
       "\n",
       "#sk-container-id-2 div.sk-toggleable {\n",
       "  /* Default theme specific background. It is overwritten whether we have a\n",
       "  specific estimator or a Pipeline/ColumnTransformer */\n",
       "  background-color: var(--sklearn-color-background);\n",
       "}\n",
       "\n",
       "/* Toggleable label */\n",
       "#sk-container-id-2 label.sk-toggleable__label {\n",
       "  cursor: pointer;\n",
       "  display: flex;\n",
       "  width: 100%;\n",
       "  margin-bottom: 0;\n",
       "  padding: 0.5em;\n",
       "  box-sizing: border-box;\n",
       "  text-align: center;\n",
       "  align-items: start;\n",
       "  justify-content: space-between;\n",
       "  gap: 0.5em;\n",
       "}\n",
       "\n",
       "#sk-container-id-2 label.sk-toggleable__label .caption {\n",
       "  font-size: 0.6rem;\n",
       "  font-weight: lighter;\n",
       "  color: var(--sklearn-color-text-muted);\n",
       "}\n",
       "\n",
       "#sk-container-id-2 label.sk-toggleable__label-arrow:before {\n",
       "  /* Arrow on the left of the label */\n",
       "  content: \"▸\";\n",
       "  float: left;\n",
       "  margin-right: 0.25em;\n",
       "  color: var(--sklearn-color-icon);\n",
       "}\n",
       "\n",
       "#sk-container-id-2 label.sk-toggleable__label-arrow:hover:before {\n",
       "  color: var(--sklearn-color-text);\n",
       "}\n",
       "\n",
       "/* Toggleable content - dropdown */\n",
       "\n",
       "#sk-container-id-2 div.sk-toggleable__content {\n",
       "  max-height: 0;\n",
       "  max-width: 0;\n",
       "  overflow: hidden;\n",
       "  text-align: left;\n",
       "  /* unfitted */\n",
       "  background-color: var(--sklearn-color-unfitted-level-0);\n",
       "}\n",
       "\n",
       "#sk-container-id-2 div.sk-toggleable__content.fitted {\n",
       "  /* fitted */\n",
       "  background-color: var(--sklearn-color-fitted-level-0);\n",
       "}\n",
       "\n",
       "#sk-container-id-2 div.sk-toggleable__content pre {\n",
       "  margin: 0.2em;\n",
       "  border-radius: 0.25em;\n",
       "  color: var(--sklearn-color-text);\n",
       "  /* unfitted */\n",
       "  background-color: var(--sklearn-color-unfitted-level-0);\n",
       "}\n",
       "\n",
       "#sk-container-id-2 div.sk-toggleable__content.fitted pre {\n",
       "  /* unfitted */\n",
       "  background-color: var(--sklearn-color-fitted-level-0);\n",
       "}\n",
       "\n",
       "#sk-container-id-2 input.sk-toggleable__control:checked~div.sk-toggleable__content {\n",
       "  /* Expand drop-down */\n",
       "  max-height: 200px;\n",
       "  max-width: 100%;\n",
       "  overflow: auto;\n",
       "}\n",
       "\n",
       "#sk-container-id-2 input.sk-toggleable__control:checked~label.sk-toggleable__label-arrow:before {\n",
       "  content: \"▾\";\n",
       "}\n",
       "\n",
       "/* Pipeline/ColumnTransformer-specific style */\n",
       "\n",
       "#sk-container-id-2 div.sk-label input.sk-toggleable__control:checked~label.sk-toggleable__label {\n",
       "  color: var(--sklearn-color-text);\n",
       "  background-color: var(--sklearn-color-unfitted-level-2);\n",
       "}\n",
       "\n",
       "#sk-container-id-2 div.sk-label.fitted input.sk-toggleable__control:checked~label.sk-toggleable__label {\n",
       "  background-color: var(--sklearn-color-fitted-level-2);\n",
       "}\n",
       "\n",
       "/* Estimator-specific style */\n",
       "\n",
       "/* Colorize estimator box */\n",
       "#sk-container-id-2 div.sk-estimator input.sk-toggleable__control:checked~label.sk-toggleable__label {\n",
       "  /* unfitted */\n",
       "  background-color: var(--sklearn-color-unfitted-level-2);\n",
       "}\n",
       "\n",
       "#sk-container-id-2 div.sk-estimator.fitted input.sk-toggleable__control:checked~label.sk-toggleable__label {\n",
       "  /* fitted */\n",
       "  background-color: var(--sklearn-color-fitted-level-2);\n",
       "}\n",
       "\n",
       "#sk-container-id-2 div.sk-label label.sk-toggleable__label,\n",
       "#sk-container-id-2 div.sk-label label {\n",
       "  /* The background is the default theme color */\n",
       "  color: var(--sklearn-color-text-on-default-background);\n",
       "}\n",
       "\n",
       "/* On hover, darken the color of the background */\n",
       "#sk-container-id-2 div.sk-label:hover label.sk-toggleable__label {\n",
       "  color: var(--sklearn-color-text);\n",
       "  background-color: var(--sklearn-color-unfitted-level-2);\n",
       "}\n",
       "\n",
       "/* Label box, darken color on hover, fitted */\n",
       "#sk-container-id-2 div.sk-label.fitted:hover label.sk-toggleable__label.fitted {\n",
       "  color: var(--sklearn-color-text);\n",
       "  background-color: var(--sklearn-color-fitted-level-2);\n",
       "}\n",
       "\n",
       "/* Estimator label */\n",
       "\n",
       "#sk-container-id-2 div.sk-label label {\n",
       "  font-family: monospace;\n",
       "  font-weight: bold;\n",
       "  display: inline-block;\n",
       "  line-height: 1.2em;\n",
       "}\n",
       "\n",
       "#sk-container-id-2 div.sk-label-container {\n",
       "  text-align: center;\n",
       "}\n",
       "\n",
       "/* Estimator-specific */\n",
       "#sk-container-id-2 div.sk-estimator {\n",
       "  font-family: monospace;\n",
       "  border: 1px dotted var(--sklearn-color-border-box);\n",
       "  border-radius: 0.25em;\n",
       "  box-sizing: border-box;\n",
       "  margin-bottom: 0.5em;\n",
       "  /* unfitted */\n",
       "  background-color: var(--sklearn-color-unfitted-level-0);\n",
       "}\n",
       "\n",
       "#sk-container-id-2 div.sk-estimator.fitted {\n",
       "  /* fitted */\n",
       "  background-color: var(--sklearn-color-fitted-level-0);\n",
       "}\n",
       "\n",
       "/* on hover */\n",
       "#sk-container-id-2 div.sk-estimator:hover {\n",
       "  /* unfitted */\n",
       "  background-color: var(--sklearn-color-unfitted-level-2);\n",
       "}\n",
       "\n",
       "#sk-container-id-2 div.sk-estimator.fitted:hover {\n",
       "  /* fitted */\n",
       "  background-color: var(--sklearn-color-fitted-level-2);\n",
       "}\n",
       "\n",
       "/* Specification for estimator info (e.g. \"i\" and \"?\") */\n",
       "\n",
       "/* Common style for \"i\" and \"?\" */\n",
       "\n",
       ".sk-estimator-doc-link,\n",
       "a:link.sk-estimator-doc-link,\n",
       "a:visited.sk-estimator-doc-link {\n",
       "  float: right;\n",
       "  font-size: smaller;\n",
       "  line-height: 1em;\n",
       "  font-family: monospace;\n",
       "  background-color: var(--sklearn-color-background);\n",
       "  border-radius: 1em;\n",
       "  height: 1em;\n",
       "  width: 1em;\n",
       "  text-decoration: none !important;\n",
       "  margin-left: 0.5em;\n",
       "  text-align: center;\n",
       "  /* unfitted */\n",
       "  border: var(--sklearn-color-unfitted-level-1) 1pt solid;\n",
       "  color: var(--sklearn-color-unfitted-level-1);\n",
       "}\n",
       "\n",
       ".sk-estimator-doc-link.fitted,\n",
       "a:link.sk-estimator-doc-link.fitted,\n",
       "a:visited.sk-estimator-doc-link.fitted {\n",
       "  /* fitted */\n",
       "  border: var(--sklearn-color-fitted-level-1) 1pt solid;\n",
       "  color: var(--sklearn-color-fitted-level-1);\n",
       "}\n",
       "\n",
       "/* On hover */\n",
       "div.sk-estimator:hover .sk-estimator-doc-link:hover,\n",
       ".sk-estimator-doc-link:hover,\n",
       "div.sk-label-container:hover .sk-estimator-doc-link:hover,\n",
       ".sk-estimator-doc-link:hover {\n",
       "  /* unfitted */\n",
       "  background-color: var(--sklearn-color-unfitted-level-3);\n",
       "  color: var(--sklearn-color-background);\n",
       "  text-decoration: none;\n",
       "}\n",
       "\n",
       "div.sk-estimator.fitted:hover .sk-estimator-doc-link.fitted:hover,\n",
       ".sk-estimator-doc-link.fitted:hover,\n",
       "div.sk-label-container:hover .sk-estimator-doc-link.fitted:hover,\n",
       ".sk-estimator-doc-link.fitted:hover {\n",
       "  /* fitted */\n",
       "  background-color: var(--sklearn-color-fitted-level-3);\n",
       "  color: var(--sklearn-color-background);\n",
       "  text-decoration: none;\n",
       "}\n",
       "\n",
       "/* Span, style for the box shown on hovering the info icon */\n",
       ".sk-estimator-doc-link span {\n",
       "  display: none;\n",
       "  z-index: 9999;\n",
       "  position: relative;\n",
       "  font-weight: normal;\n",
       "  right: .2ex;\n",
       "  padding: .5ex;\n",
       "  margin: .5ex;\n",
       "  width: min-content;\n",
       "  min-width: 20ex;\n",
       "  max-width: 50ex;\n",
       "  color: var(--sklearn-color-text);\n",
       "  box-shadow: 2pt 2pt 4pt #999;\n",
       "  /* unfitted */\n",
       "  background: var(--sklearn-color-unfitted-level-0);\n",
       "  border: .5pt solid var(--sklearn-color-unfitted-level-3);\n",
       "}\n",
       "\n",
       ".sk-estimator-doc-link.fitted span {\n",
       "  /* fitted */\n",
       "  background: var(--sklearn-color-fitted-level-0);\n",
       "  border: var(--sklearn-color-fitted-level-3);\n",
       "}\n",
       "\n",
       ".sk-estimator-doc-link:hover span {\n",
       "  display: block;\n",
       "}\n",
       "\n",
       "/* \"?\"-specific style due to the `<a>` HTML tag */\n",
       "\n",
       "#sk-container-id-2 a.estimator_doc_link {\n",
       "  float: right;\n",
       "  font-size: 1rem;\n",
       "  line-height: 1em;\n",
       "  font-family: monospace;\n",
       "  background-color: var(--sklearn-color-background);\n",
       "  border-radius: 1rem;\n",
       "  height: 1rem;\n",
       "  width: 1rem;\n",
       "  text-decoration: none;\n",
       "  /* unfitted */\n",
       "  color: var(--sklearn-color-unfitted-level-1);\n",
       "  border: var(--sklearn-color-unfitted-level-1) 1pt solid;\n",
       "}\n",
       "\n",
       "#sk-container-id-2 a.estimator_doc_link.fitted {\n",
       "  /* fitted */\n",
       "  border: var(--sklearn-color-fitted-level-1) 1pt solid;\n",
       "  color: var(--sklearn-color-fitted-level-1);\n",
       "}\n",
       "\n",
       "/* On hover */\n",
       "#sk-container-id-2 a.estimator_doc_link:hover {\n",
       "  /* unfitted */\n",
       "  background-color: var(--sklearn-color-unfitted-level-3);\n",
       "  color: var(--sklearn-color-background);\n",
       "  text-decoration: none;\n",
       "}\n",
       "\n",
       "#sk-container-id-2 a.estimator_doc_link.fitted:hover {\n",
       "  /* fitted */\n",
       "  background-color: var(--sklearn-color-fitted-level-3);\n",
       "}\n",
       "</style><div id=\"sk-container-id-2\" class=\"sk-top-container\"><div class=\"sk-text-repr-fallback\"><pre>LogisticRegression(max_iter=1000, penalty=&#x27;l1&#x27;, random_state=123,\n",
       "                   solver=&#x27;liblinear&#x27;)</pre><b>In a Jupyter environment, please rerun this cell to show the HTML representation or trust the notebook. <br />On GitHub, the HTML representation is unable to render, please try loading this page with nbviewer.org.</b></div><div class=\"sk-container\" hidden><div class=\"sk-item\"><div class=\"sk-estimator fitted sk-toggleable\"><input class=\"sk-toggleable__control sk-hidden--visually\" id=\"sk-estimator-id-2\" type=\"checkbox\" checked><label for=\"sk-estimator-id-2\" class=\"sk-toggleable__label fitted sk-toggleable__label-arrow\"><div><div>LogisticRegression</div></div><div><a class=\"sk-estimator-doc-link fitted\" rel=\"noreferrer\" target=\"_blank\" href=\"https://scikit-learn.org/1.6/modules/generated/sklearn.linear_model.LogisticRegression.html\">?<span>Documentation for LogisticRegression</span></a><span class=\"sk-estimator-doc-link fitted\">i<span>Fitted</span></span></div></label><div class=\"sk-toggleable__content fitted\"><pre>LogisticRegression(max_iter=1000, penalty=&#x27;l1&#x27;, random_state=123,\n",
       "                   solver=&#x27;liblinear&#x27;)</pre></div> </div></div></div></div>"
      ],
      "text/plain": [
       "LogisticRegression(max_iter=1000, penalty='l1', random_state=123,\n",
       "                   solver='liblinear')"
      ]
     },
     "execution_count": 19,
     "metadata": {},
     "output_type": "execute_result"
    }
   ],
   "source": [
    "lm_surrogate = LogisticRegression(max_iter=1000, \n",
    "                                  random_state=123, penalty='l1', solver='liblinear')\n",
    "lm_surrogate.fit(X_test_minmax, y_blackbox)"
   ]
  },
  {
   "cell_type": "markdown",
   "id": "4790365d-8cd1-4e55-9439-035e0e905d2f",
   "metadata": {},
   "source": [
    "With the surrogate model trained, we can generate predictions using `X_test`, \n"
   ]
  },
  {
   "cell_type": "code",
   "execution_count": 20,
   "id": "4a97b50b-b18a-47cc-869d-eb6c24c0237c",
   "metadata": {},
   "outputs": [],
   "source": [
    "y_surrogate = lm_surrogate.predict(X_test_minmax)"
   ]
  },
  {
   "cell_type": "markdown",
   "id": "9176f364-9756-440c-81c6-11f668dfec2b",
   "metadata": {},
   "source": [
    "and calculate how accurate the surrogate model approximates the black-box model.\n"
   ]
  },
  {
   "cell_type": "code",
   "execution_count": 21,
   "id": "0f53de5b-ca80-4795-9e8a-2aff67218c86",
   "metadata": {},
   "outputs": [
    {
     "data": {
      "text/plain": [
       "0.7431551499348109"
      ]
     },
     "execution_count": 21,
     "metadata": {},
     "output_type": "execute_result"
    }
   ],
   "source": [
    "metrics.accuracy_score(y_blackbox, y_surrogate)"
   ]
  },
  {
   "cell_type": "markdown",
   "id": "bd791178-d293-429c-a444-c2c4ba49a710",
   "metadata": {},
   "source": [
    "The score is around 0.75 which means the logistic regression surrogate model was able to reproduce about 75% of the original black-box model correctly.\n"
   ]
  },
  {
   "cell_type": "markdown",
   "id": "3473c157-1e23-4e38-b696-ce9c427960c9",
   "metadata": {},
   "source": [
    "Next, we can start interpreting the much simpler logistic regression model `lm_surrogate` via analyzing its feature coefficients. We defined a function called `get_feature_coeffs` to extract and sort feature coefficients from `lm_surrogate` model:\n"
   ]
  },
  {
   "cell_type": "code",
   "execution_count": 22,
   "id": "d4799e52-d141-4345-a9b5-95cc930dcae8",
   "metadata": {},
   "outputs": [],
   "source": [
    "# Extract and sort feature coefficients\n",
    "def get_feature_coefs(regression_model):\n",
    "    coef_dict = {}\n",
    "    # Filter coefficients less than 0.01\n",
    "    for coef, feat in zip(regression_model.coef_[0, :], X_test.columns):\n",
    "        if abs(coef) >= 0.01:\n",
    "            coef_dict[feat] = coef\n",
    "    # Sort coefficients\n",
    "    coef_dict = {k: v for k, v in sorted(coef_dict.items(), key=lambda item: item[1])}\n",
    "    return coef_dict"
   ]
  },
  {
   "cell_type": "code",
   "execution_count": 23,
   "id": "300616f3-add9-492e-94c9-8d8e45a3b001",
   "metadata": {},
   "outputs": [
    {
     "data": {
      "text/plain": [
       "{'city_development_index': -1.1037003758316433,\n",
       " 'experience': -0.31534600537812607,\n",
       " 'company_size': -0.3102667491190301,\n",
       " 'company_type_Funded Startup': -0.20164083670299643,\n",
       " 'training_hours': -0.1590867045051154,\n",
       " 'company_type_Early Stage Startup': -0.13134779175452335,\n",
       " 'company_type_NGO': -0.052803892359036986,\n",
       " 'company_type_Other': 0.07697385537422011,\n",
       " 'education_level': 0.1526050373206213,\n",
       " 'company_type_Pvt Ltd': 0.4424638344649262}"
      ]
     },
     "execution_count": 23,
     "metadata": {},
     "output_type": "execute_result"
    }
   ],
   "source": [
    "coef_dict = get_feature_coefs(lm_surrogate)\n",
    "coef_dict"
   ]
  },
  {
   "cell_type": "markdown",
   "id": "87b69036-9db4-4f76-93e7-54d805a2a72c",
   "metadata": {},
   "source": [
    "We can get a coefficient dict object whose keys are features and values are coefficients, but such dict object is not easy to understand so let's just visualize it using a bar chart:\n"
   ]
  },
  {
   "cell_type": "code",
   "execution_count": 24,
   "id": "a45da294-059a-4836-b0f2-9105e0eb63b9",
   "metadata": {},
   "outputs": [],
   "source": [
    "# Generate bar colors based on if value is negative or positive\n",
    "def get_bar_colors(values):\n",
    "    color_vals = []\n",
    "    for val in values:\n",
    "        if val <= 0:\n",
    "            color_vals.append('r')\n",
    "        else:\n",
    "            color_vals.append('g')\n",
    "    return color_vals\n",
    "\n",
    "# Visualize coefficients\n",
    "def visualize_coefs(coef_dict):\n",
    "    features = list(coef_dict.keys())\n",
    "    values = list(coef_dict.values())\n",
    "    y_pos = np.arange(len(features))\n",
    "    color_vals = get_bar_colors(values)\n",
    "    plt.rcdefaults()\n",
    "    fig, ax = plt.subplots()\n",
    "    ax.barh(y_pos, values, align='center', color=color_vals)\n",
    "    ax.set_yticks(y_pos)\n",
    "    ax.set_yticklabels(features)\n",
    "    # labels read top-to-bottom\n",
    "    ax.invert_yaxis()  \n",
    "    ax.set_xlabel('Feature Coefficients')\n",
    "    ax.set_title('')\n",
    "    plt.show()\n",
    "    "
   ]
  },
  {
   "cell_type": "markdown",
   "id": "f01eeaf9-003d-4c15-a1a9-182d58bb3b09",
   "metadata": {},
   "source": [
    "Let's call `visualize_coefs` function to visualize the coefficients dict:\n"
   ]
  },
  {
   "cell_type": "code",
   "execution_count": 25,
   "id": "87c7624a-c9ae-4cf1-ad38-8f7263bdb234",
   "metadata": {},
   "outputs": [
    {
     "data": {
      "image/png": "[encoded data removed]",
      "text/plain": [
       "<Figure size 640x480 with 1 Axes>"
      ]
     },
     "metadata": {},
     "output_type": "display_data"
    }
   ],
   "source": [
    "visualize_coefs(coef_dict)"
   ]
  },
  {
   "cell_type": "markdown",
   "id": "b44040b4-deb4-4fed-bd65-7a5dec72e8fa",
   "metadata": {},
   "source": [
    "From the bar chart above, you can immediately find those important features with negative effects such as `city_development_index` and `experience`, and those have positive effects such as education_level or if the company is a `Pvt Ltd`.\n"
   ]
  },
  {
   "cell_type": "markdown",
   "id": "38009845-9493-45a7-ba01-f77a6fece2a1",
   "metadata": {},
   "source": [
    "### Exercise: Build a global surrogate model using decision tree\n"
   ]
  },
  {
   "cell_type": "code",
   "execution_count": 26,
   "id": "ebb3db54-00f3-4240-87b5-96304f34818d",
   "metadata": {},
   "outputs": [],
   "source": [
    "# Type your answer here\n",
    "# Define a decision tree model\n",
    "tree_surrogate = DecisionTreeClassifier(random_state=123, \n",
    "                                         max_depth=5, \n",
    "                                         max_features=10)"
   ]
  },
  {
   "cell_type": "markdown",
   "id": "5941ca86-ec20-45d1-8d9a-1cb8c18b21b5",
   "metadata": {},
   "source": [
    "<details><summary>Click here for a sample solution</summary>\n",
    "\n",
    "```python\n",
    "tree_surrogate = DecisionTreeClassifier(random_state=123, \n",
    "                                         max_depth=5, \n",
    "                                         max_features=10)\n",
    "```\n",
    "\n",
    "</details>\n"
   ]
  },
  {
   "cell_type": "code",
   "execution_count": 27,
   "id": "c50d8300-a939-4a9d-8293-63fede2f9258",
   "metadata": {},
   "outputs": [],
   "source": [
    "# Type your answer here\n",
    "# Train the decision tree model with X_test and y_blackbox, and make predictions on X_test\n",
    "tree_surrogate.fit(X_test, y_blackbox)\n",
    "y_surrogate = tree_surrogate.predict(X_test)"
   ]
  },
  {
   "cell_type": "markdown",
   "id": "11fa17a5-ba8c-4342-aaf7-71fc4fb73734",
   "metadata": {},
   "source": [
    "<details><summary>Click here for a sample solution</summary>\n",
    "\n",
    "```python\n",
    "tree_surrogate.fit(X_test, y_blackbox)\n",
    "y_surrogate = tree_surrogate.predict(X_test)\n",
    "```\n",
    "\n",
    "</details>\n"
   ]
  },
  {
   "cell_type": "code",
   "execution_count": 28,
   "id": "d5253d59-6c2e-4276-b0a7-4401a33bc134",
   "metadata": {},
   "outputs": [
    {
     "data": {
      "text/plain": [
       "0.8213820078226858"
      ]
     },
     "execution_count": 28,
     "metadata": {},
     "output_type": "execute_result"
    }
   ],
   "source": [
    "# Type your answer here\n",
    "# Measure the difference between\n",
    "metrics.accuracy_score(y_blackbox, y_surrogate)"
   ]
  },
  {
   "cell_type": "markdown",
   "id": "77d9fa9c-9aaa-49cb-9f18-1647a43aee6e",
   "metadata": {},
   "source": [
    "<details><summary>Click here for a sample solution</summary>\n",
    "\n",
    "```python\n",
    "metrics.accuracy_score(y_blackbox, y_surrogate)\n",
    "```\n",
    "\n",
    "</details>\n"
   ]
  },
  {
   "cell_type": "markdown",
   "id": "0d1d8ee1-6150-4383-b46a-dd27003d9f4a",
   "metadata": {},
   "source": [
    "Now, you have trained the tree surrogate model, you could interprete it by export and print the tree:\n"
   ]
  },
  {
   "cell_type": "code",
   "execution_count": 29,
   "id": "cd3bc60e-fae9-442f-8f5d-b08b7920b916",
   "metadata": {},
   "outputs": [],
   "source": [
    "tree_exp = export_text(tree_surrogate, feature_names=list(X_train.columns))"
   ]
  },
  {
   "cell_type": "code",
   "execution_count": 30,
   "id": "b996f687-cc9d-47d2-affe-77642c66005e",
   "metadata": {},
   "outputs": [
    {
     "name": "stdout",
     "output_type": "stream",
     "text": [
      "|--- city_development_index <= 0.70\n",
      "|   |--- experience <= 20.92\n",
      "|   |   |--- training_hours <= 304.03\n",
      "|   |   |   |--- company_type_Funded Startup <= 0.99\n",
      "|   |   |   |   |--- city_development_index <= 0.69\n",
      "|   |   |   |   |   |--- class: 1.0\n",
      "|   |   |   |   |--- city_development_index >  0.69\n",
      "|   |   |   |   |   |--- class: 1.0\n",
      "|   |   |   |--- company_type_Funded Startup >  0.99\n",
      "|   |   |   |   |--- education_level <= 2.50\n",
      "|   |   |   |   |   |--- class: 1.0\n",
      "|   |   |   |   |--- education_level >  2.50\n",
      "|   |   |   |   |   |--- class: 0.0\n",
      "|   |   |--- training_hours >  304.03\n",
      "|   |   |   |--- class: 0.0\n",
      "|   |--- experience >  20.92\n",
      "|   |   |--- city_development_index <= 0.67\n",
      "|   |   |   |--- education_level <= 2.07\n",
      "|   |   |   |   |--- training_hours <= 44.50\n",
      "|   |   |   |   |   |--- class: 1.0\n",
      "|   |   |   |   |--- training_hours >  44.50\n",
      "|   |   |   |   |   |--- class: 0.0\n",
      "|   |   |   |--- education_level >  2.07\n",
      "|   |   |   |   |--- company_size <= 6.50\n",
      "|   |   |   |   |   |--- class: 1.0\n",
      "|   |   |   |   |--- company_size >  6.50\n",
      "|   |   |   |   |   |--- class: 0.0\n",
      "|   |   |--- city_development_index >  0.67\n",
      "|   |   |   |--- class: 0.0\n",
      "|--- city_development_index >  0.70\n",
      "|   |--- company_size <= 2.98\n",
      "|   |   |--- company_size <= 1.01\n",
      "|   |   |   |--- city_development_index <= 0.76\n",
      "|   |   |   |   |--- company_type_Funded Startup <= 0.22\n",
      "|   |   |   |   |   |--- class: 0.0\n",
      "|   |   |   |   |--- company_type_Funded Startup >  0.22\n",
      "|   |   |   |   |   |--- class: 1.0\n",
      "|   |   |   |--- city_development_index >  0.76\n",
      "|   |   |   |   |--- training_hours <= 9.50\n",
      "|   |   |   |   |   |--- class: 0.0\n",
      "|   |   |   |   |--- training_hours >  9.50\n",
      "|   |   |   |   |   |--- class: 0.0\n",
      "|   |   |--- company_size >  1.01\n",
      "|   |   |   |--- company_type_Pvt Ltd <= 0.03\n",
      "|   |   |   |   |--- training_hours <= 3.50\n",
      "|   |   |   |   |   |--- class: 0.0\n",
      "|   |   |   |   |--- training_hours >  3.50\n",
      "|   |   |   |   |   |--- class: 0.0\n",
      "|   |   |   |--- company_type_Pvt Ltd >  0.03\n",
      "|   |   |   |   |--- education_level <= 1.01\n",
      "|   |   |   |   |   |--- class: 0.0\n",
      "|   |   |   |   |--- education_level >  1.01\n",
      "|   |   |   |   |   |--- class: 1.0\n",
      "|   |--- company_size >  2.98\n",
      "|   |   |--- city_development_index <= 0.88\n",
      "|   |   |   |--- company_size <= 5.03\n",
      "|   |   |   |   |--- training_hours <= 186.83\n",
      "|   |   |   |   |   |--- class: 0.0\n",
      "|   |   |   |   |--- training_hours >  186.83\n",
      "|   |   |   |   |   |--- class: 1.0\n",
      "|   |   |   |--- company_size >  5.03\n",
      "|   |   |   |   |--- city_development_index <= 0.84\n",
      "|   |   |   |   |   |--- class: 1.0\n",
      "|   |   |   |   |--- city_development_index >  0.84\n",
      "|   |   |   |   |   |--- class: 0.0\n",
      "|   |   |--- city_development_index >  0.88\n",
      "|   |   |   |--- education_level <= 2.12\n",
      "|   |   |   |   |--- training_hours <= 17.50\n",
      "|   |   |   |   |   |--- class: 0.0\n",
      "|   |   |   |   |--- training_hours >  17.50\n",
      "|   |   |   |   |   |--- class: 0.0\n",
      "|   |   |   |--- education_level >  2.12\n",
      "|   |   |   |   |--- education_level <= 2.99\n",
      "|   |   |   |   |   |--- class: 1.0\n",
      "|   |   |   |   |--- education_level >  2.99\n",
      "|   |   |   |   |   |--- class: 0.0\n",
      "\n"
     ]
    }
   ],
   "source": [
    "print(tree_exp)"
   ]
  },
  {
   "cell_type": "markdown",
   "id": "9ee532cb-9702-4457-b019-992852cfeb93",
   "metadata": {},
   "source": [
    "## Local interpretable model-agnostic explanations (LIME)\n"
   ]
  },
  {
   "cell_type": "markdown",
   "id": "cd7e69b6-f0cc-4df5-94a0-1139b0a19bbb",
   "metadata": {},
   "source": [
    "Global surrogate models may have large prediction inconsistency between the complex black-box model and the simple surrogate models or there are many instance groups or clusters in the dataset which make the surrogate model more generalized to those different patterns and lose the interpretability on a specific data group. \n",
    "\n",
    "On the other hand, we are also interested in how black-box models make predictions on some representative instances. By understanding these very typical examples, we can sometimes obtain valuable insights without understanding the model’s behaviors on the entire dataset.\n"
   ]
  },
  {
   "cell_type": "markdown",
   "id": "c1061487-b0a5-47a4-9bda-bae284e0b371",
   "metadata": {},
   "source": [
    "Next, you will be building a local surrogate model using LIME method whose general steps are shown in the following flowchart:\n"
   ]
  },
  {
   "cell_type": "markdown",
   "id": "29bcd165-40fb-45c0-9335-0960c6d6f3ce",
   "metadata": {},
   "source": [
    "![Local interpretable model-agnostic method](https://cf-courses-data.s3.us.cloud-object-storage.appdomain.cloud/IBM-ML241EN-SkillsNetwork/labs/module6_model_interpretability/images/lime.png)\n"
   ]
  },
  {
   "cell_type": "markdown",
   "id": "61b39384-8381-415f-84f1-a3c52d82e2ce",
   "metadata": {},
   "source": [
    "We can use a open source [lime](https://github.com/marcotcr/lime) package to easily build a LIME explainer the our black-box model, let's get started.\n"
   ]
  },
  {
   "cell_type": "markdown",
   "id": "488809c2-e398-4d7c-a51e-4d45d8b737b0",
   "metadata": {},
   "source": [
    "First, we need to define a `LimeTabularExplainer` to explain those predictive models built on structured/tabular datasets, like the job-changing prediction dataset we are using.\n"
   ]
  },
  {
   "cell_type": "markdown",
   "id": "1f2c3b8d-858b-4c86-ac87-e98e6697ffb0",
   "metadata": {},
   "source": [
    "Note although LIME algorithm is a local surrogate model, it still also requires a training dataset containing your interested data instances. So that it can perform uniform sampling (feature permutations) around the interested data instances to generate the artificial dataset for the actual surrogate model training process.\n"
   ]
  },
  {
   "cell_type": "code",
   "execution_count": 31,
   "id": "b5165f1c-bcfc-4051-8190-f8ab7579d7cc",
   "metadata": {},
   "outputs": [],
   "source": [
    "explainer = lime.lime_tabular.LimeTabularExplainer(\n",
    "    # Set the training dataset to be X_test.values (2-D Numpy array)\n",
    "    training_data=X_test.values,\n",
    "    # Set the mode to be classification\n",
    "    mode='classification',\n",
    "    # Set class names to be `Not Changing` and `Changing`\n",
    "    class_names = ['Not Changing', 'Changing'],\n",
    "    # Set feature names\n",
    "    feature_names=list(X_train.columns),\n",
    "    random_state=123,\n",
    "    verbose=True)"
   ]
  },
  {
   "cell_type": "markdown",
   "id": "32ab65b8-219b-4169-832c-bc6a35565a00",
   "metadata": {},
   "source": [
    "Now, let's try to select an interested employee from `X_test`, and we want to understand its prediction using the `LimeTabularExplainer`.\n"
   ]
  },
  {
   "cell_type": "code",
   "execution_count": 32,
   "id": "8ef4bea9-0119-4cb8-a0cf-411fd51031a3",
   "metadata": {},
   "outputs": [
    {
     "data": {
      "text/html": [
       "<div>\n",
       "<style scoped>\n",
       "    .dataframe tbody tr th:only-of-type {\n",
       "        vertical-align: middle;\n",
       "    }\n",
       "\n",
       "    .dataframe tbody tr th {\n",
       "        vertical-align: top;\n",
       "    }\n",
       "\n",
       "    .dataframe thead th {\n",
       "        text-align: right;\n",
       "    }\n",
       "</style>\n",
       "<table border=\"1\" class=\"dataframe\">\n",
       "  <thead>\n",
       "    <tr style=\"text-align: right;\">\n",
       "      <th></th>\n",
       "      <th>city_development_index</th>\n",
       "      <th>training_hours</th>\n",
       "      <th>company_size</th>\n",
       "      <th>experience</th>\n",
       "      <th>education_level</th>\n",
       "      <th>company_type_Early Stage Startup</th>\n",
       "      <th>company_type_Funded Startup</th>\n",
       "      <th>company_type_NGO</th>\n",
       "      <th>company_type_Other</th>\n",
       "      <th>company_type_Public Sector</th>\n",
       "      <th>company_type_Pvt Ltd</th>\n",
       "    </tr>\n",
       "  </thead>\n",
       "  <tbody>\n",
       "    <tr>\n",
       "      <th>8659</th>\n",
       "      <td>0.924</td>\n",
       "      <td>74.0</td>\n",
       "      <td>7.0</td>\n",
       "      <td>16.0</td>\n",
       "      <td>3.0</td>\n",
       "      <td>0.0</td>\n",
       "      <td>0.0</td>\n",
       "      <td>0.0</td>\n",
       "      <td>0.0</td>\n",
       "      <td>0.0</td>\n",
       "      <td>1.0</td>\n",
       "    </tr>\n",
       "  </tbody>\n",
       "</table>\n",
       "</div>"
      ],
      "text/plain": [
       "      city_development_index  training_hours  company_size  experience  \\\n",
       "8659                   0.924            74.0           7.0        16.0   \n",
       "\n",
       "      education_level  company_type_Early Stage Startup  \\\n",
       "8659              3.0                               0.0   \n",
       "\n",
       "      company_type_Funded Startup  company_type_NGO  company_type_Other  \\\n",
       "8659                          0.0               0.0                 0.0   \n",
       "\n",
       "      company_type_Public Sector  company_type_Pvt Ltd  \n",
       "8659                         0.0                   1.0  "
      ]
     },
     "execution_count": 32,
     "metadata": {},
     "output_type": "execute_result"
    }
   ],
   "source": [
    "instance_index = 19\n",
    "selected_instance = X_test.iloc[[instance_index]]\n",
    "lime_test_instance = selected_instance.values.reshape(-1)\n",
    "selected_instance"
   ]
  },
  {
   "cell_type": "markdown",
   "id": "d3494ddc-d648-4fb2-affe-678db3da1e89",
   "metadata": {},
   "source": [
    "Let's make a quick summary about this employee:\n",
    "- His/her city is well-developed with a city development index > 0.9\n",
    "- His/her training hour is 74 hours\n",
    "- His/her company is a very big company, 7 means more than 10,000 employees\n",
    "- His/her experience is more than 16 years\n",
    "- His/her company is a Pvt Ltd (Private) company\n",
    "- His/her has Master's degree(s)\n",
    "\n",
    "and our black-box model predicts its probability of changing a job is `0.03`, that is, very unlikely to leave his or her current job.\n"
   ]
  },
  {
   "cell_type": "markdown",
   "id": "2b4e7d2c-fb62-42a8-8a04-cf2112905612",
   "metadata": {},
   "source": [
    "Then, let's use `LimeTabularExplainer` to explain why the black-box model thinks this employee won't leave his/her current job.\n"
   ]
  },
  {
   "cell_type": "code",
   "execution_count": 33,
   "id": "430bd94d-56b5-40da-845a-81dd467b978e",
   "metadata": {},
   "outputs": [
    {
     "name": "stderr",
     "output_type": "stream",
     "text": [
      "c:\\Users\\sam\\anaconda3\\envs\\API\\Lib\\site-packages\\sklearn\\utils\\validation.py:2739: UserWarning: X does not have valid feature names, but RandomForestClassifier was fitted with feature names\n",
      "  warnings.warn(\n"
     ]
    },
    {
     "name": "stdout",
     "output_type": "stream",
     "text": [
      "Intercept 0.9292244657555584\n",
      "Prediction_local [0.48730243]\n",
      "Right: 0.030869565217391304\n"
     ]
    },
    {
     "data": {
      "image/png": "[encoded data removed]",
      "text/plain": [
       "<Figure size 640x480 with 1 Axes>"
      ]
     },
     "metadata": {},
     "output_type": "display_data"
    }
   ],
   "source": [
    "exp = explainer.explain_instance(\n",
    "                                 # Instance to explain\n",
    "                                 lime_test_instance, \n",
    "                                 # The prediction from black-box model\n",
    "                                 black_box_model.predict_proba,\n",
    "                                 # Use max 10 features\n",
    "                                 num_features=10)\n",
    "exp.as_pyplot_figure();"
   ]
  },
  {
   "cell_type": "markdown",
   "id": "0fbc986e-7545-443d-8deb-a6540688ddf0",
   "metadata": {},
   "source": [
    "`LimeTabularExplainer` outputs a bar chart similar to the coefficient or feature importance chart we plotted before. \n",
    "From its output, we can easily interpret why the black-box thinks this employe won't change job, based on the following main factors:\n",
    "- His/her company is a very big company\n",
    "- His/her city is well-developed with city development\n",
    "- His/her highest degree is Master or above\n",
    "- His/her experience is more than 15 years\n",
    "- His/her company is not NGO or Startup\n",
    "\n",
    "This interpretation is also aligned with our common sense, that is, if a well-educated employee has been working in a very big/good private company, located in a big city, for more than 15 years, then he/she is probably very satisfied with current job and does not want to change it.\n"
   ]
  },
  {
   "cell_type": "markdown",
   "id": "f3b589bf-72dc-4d2c-97d4-c2de125ef7ce",
   "metadata": {},
   "source": [
    "## Next Steps\n"
   ]
  },
  {
   "cell_type": "markdown",
   "id": "e2e84531-fd0d-4175-bf38-c7a9e4a2d684",
   "metadata": {},
   "source": [
    "By now you have learned and applied various model-agnostic explanation algorithms such as Permutation Feature Importance, PDP, Global Surrogate Model, LIME, and others in this lab. There are many other such methods such as Feature Interactions, Individual Conditional Expectation, SHAP values, and so on, and we do not have enough time to explain them all in this course. \n",
    "\n",
    "We list the references to other popular model explanation methods which you may be interested:\n",
    "- [Predictive learning via rule ensembles](https://arxiv.org/abs/0811.1679)\n",
    "- [A Unified Approach to Interpreting Model Predictions](https://arxiv.org/abs/1705.07874)\n",
    "- [Peeking Inside the Black Box: Visualizing Statistical Learning with Plots of Individual Conditional Expectation](https://arxiv.org/abs/1309.6392)\n"
   ]
  },
  {
   "cell_type": "markdown",
   "id": "642ea48e-1dda-430f-8c7b-bdcb39034b63",
   "metadata": {},
   "source": [
    "## Authors\n"
   ]
  },
  {
   "cell_type": "markdown",
   "id": "feecc4bd-0dcf-43df-b850-ec9d642e3441",
   "metadata": {},
   "source": [
    "[Yan Luo](https://www.linkedin.com/in/yan-luo-96288783/)\n"
   ]
  },
  {
   "cell_type": "markdown",
   "id": "cce6d355-6730-4034-80d4-67c2cb735a7f",
   "metadata": {},
   "source": [
    "### Other Contributors\n"
   ]
  },
  {
   "cell_type": "markdown",
   "id": "d5253b11-7f0b-421c-863c-b25aa2016083",
   "metadata": {},
   "source": [
    "<!--## Change Log\n",
    "--!>\n"
   ]
  },
  {
   "cell_type": "markdown",
   "id": "52104eb5-5eac-4bca-8403-4f068a4af9cd",
   "metadata": {},
   "source": [
    "<!--|Date (YYYY-MM-DD)|Version|Changed By|Change Description|\n",
    "|-|-|-|-|\n",
    "|2021-8-23|1.0|Yan|Created the initial version||2022-2-8|1.1|Steve Hord|QA pass|--!>\n"
   ]
  },
  {
   "cell_type": "markdown",
   "id": "1396ed95-2d77-4fb4-8285-942b8e61d638",
   "metadata": {},
   "source": [
    "Copyright © 2021 IBM Corporation. All rights reserved.\n"
   ]
  }
 ],
 "metadata": {
  "kernelspec": {
   "display_name": "API",
   "language": "python",
   "name": "python3"
  },
  "language_info": {
   "codemirror_mode": {
    "name": "ipython",
    "version": 3
   },
   "file_extension": ".py",
   "mimetype": "text/x-python",
   "name": "python",
   "nbconvert_exporter": "python",
   "pygments_lexer": "ipython3",
   "version": "3.12.8"
  },
  "prev_pub_hash": "240fcd10a9c95b2ac5d592c1fec94e4d77f9fcc5d191d9e5a59a411ce7ad34e3"
 },
 "nbformat": 4,
 "nbformat_minor": 4
}
